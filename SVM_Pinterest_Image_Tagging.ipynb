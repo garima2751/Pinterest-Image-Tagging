{
 "cells": [
  {
   "cell_type": "code",
   "execution_count": 1,
   "metadata": {},
   "outputs": [],
   "source": [
    "from pathlib import Path\n",
    "import matplotlib.pyplot as plt\n",
    "import numpy as np\n",
    "%matplotlib notebook\n",
    "from sklearn.svm import SVC\n",
    "from sklearn.metrics import accuracy_score\n",
    "from sklearn.utils import Bunch\n",
    "from sklearn.model_selection import GridSearchCV, train_test_split\n",
    "from skimage import *\n",
    "from skimage.io import imread\n",
    "from skimage.transform import resize\n",
    "from skimage.color import rgb2grey"
   ]
  },
  {
   "cell_type": "code",
   "execution_count": 10,
   "metadata": {},
   "outputs": [],
   "source": [
    "def load_image_files(container_path, dimension=(32,32)):\n",
    "    \"\"\"\n",
    "    Load image files with categories as subfolder names \n",
    "    which performs like scikit-learn sample dataset\n",
    "    \n",
    "    Parameters\n",
    "    ----------\n",
    "    container_path : string or unicode\n",
    "        Path to the main folder holding one subfolder per category\n",
    "    dimension : tuple\n",
    "        size to which image are adjusted to\n",
    "        \n",
    "    Returns\n",
    "    -------\n",
    "    Bunch\n",
    "    \"\"\"\n",
    "    image_dir = Path(container_path)\n",
    "    folders = [directory for directory in image_dir.iterdir() if directory.is_dir()]\n",
    "    categories = [fo.name for fo in folders]\n",
    "\n",
    "    descr = \"A image classification dataset\"\n",
    "    images = []\n",
    "    flat_data = []\n",
    "    target = []\n",
    "    for i, direc in enumerate(folders):\n",
    "        \n",
    "        for file in direc.iterdir():\n",
    "            img = io.imread(file,plugin='matplotlib')\n",
    "            #color_features = img.flatten()\n",
    "            grey_image = rgb2grey(img)\n",
    "            img_resized = resize(grey_image, dimension, anti_aliasing=True, mode='reflect')\n",
    "            #plt.imshow(img_resized)\n",
    "            flat_data.append(img_resized.flatten()) \n",
    "            images.append(img_resized)\n",
    "            target.append(i)\n",
    "    flat_data = np.array(flat_data)\n",
    "    target = np.array(target)\n",
    "    images = np.array(images)\n",
    "\n",
    "    return Bunch(data=flat_data,\n",
    "                 target=target,\n",
    "                 target_names=categories,\n",
    "                 images=images,\n",
    "                 DESCR=descr)"
   ]
  },
  {
   "cell_type": "code",
   "execution_count": 11,
   "metadata": {},
   "outputs": [],
   "source": [
    "train_dataset = load_image_files(\"/Users/macbookpro/Documents/Masters/Deep Learning/dataset/training_set/\")"
   ]
  },
  {
   "cell_type": "code",
   "execution_count": 4,
   "metadata": {},
   "outputs": [],
   "source": [
    "validation_dataset = load_image_files(\"/Users/macbookpro/Documents/Masters/Deep Learning/dataset/validation_set/\")"
   ]
  },
  {
   "cell_type": "code",
   "execution_count": 12,
   "metadata": {
    "scrolled": true
   },
   "outputs": [
    {
     "data": {
      "text/plain": [
       "SVC(C=2, break_ties=False, cache_size=200, class_weight=None, coef0=0.0,\n",
       "    decision_function_shape='ovr', degree=3, gamma=0.01, kernel='rbf',\n",
       "    max_iter=-1, probability=True, random_state=1, shrinking=True, tol=0.001,\n",
       "    verbose=False)"
      ]
     },
     "execution_count": 12,
     "metadata": {},
     "output_type": "execute_result"
    }
   ],
   "source": [
    "G = 0.01\n",
    "CC = 2\n",
    "svm = SVC(kernel='rbf', probability=True, gamma=G,C = CC,random_state = 1)\n",
    "svm.fit(train_dataset.data, train_dataset.target)"
   ]
  },
  {
   "cell_type": "code",
   "execution_count": 13,
   "metadata": {},
   "outputs": [
    {
     "name": "stdout",
     "output_type": "stream",
     "text": [
      "Model accuracy is:  0.4153846153846154\n"
     ]
    }
   ],
   "source": [
    "y_pred = svm.predict(validation_dataset.data)\n",
    "accuracy = accuracy_score(validation_dataset.target, y_pred)\n",
    "print('Model accuracy is: ', accuracy)"
   ]
  },
  {
   "cell_type": "code",
   "execution_count": 14,
   "metadata": {},
   "outputs": [
    {
     "name": "stdout",
     "output_type": "stream",
     "text": [
      "[[ 70  24  14  15  26  30  15  11]\n",
      " [ 17  72  13   9  13  32  25  26]\n",
      " [  8  14  50   2  20  32  33  43]\n",
      " [ 19  13  16 102  12  17  13   5]\n",
      " [ 26   2   3   3 128  19   8  11]\n",
      " [ 18  10  21  10  31  72  16  25]\n",
      " [ 11  26  23  14  16  19  78  18]\n",
      " [  4  14  21   3   7  20  34 103]]\n"
     ]
    }
   ],
   "source": [
    "from sklearn.metrics import confusion_matrix\n",
    "cfm = confusion_matrix(validation_dataset.target, y_pred)\n",
    "print(cfm)"
   ]
  },
  {
   "cell_type": "code",
   "execution_count": 16,
   "metadata": {},
   "outputs": [],
   "source": [
    "#cfm_n = confusion_matrix(np.argmax(model_n.predict(X_test), axis=1), np.argmax(y_test, axis=1))\n",
    "cfm_n = np.flipud(cfm)\n",
    "cfm_n = cfm_n.astype('float') / cfm_n.sum(axis=1)[:, np.newaxis]\n",
    "cfm_n = np.round(cfm_n,2)"
   ]
  },
  {
   "cell_type": "code",
   "execution_count": 19,
   "metadata": {
    "scrolled": true
   },
   "outputs": [
    {
     "data": {
      "application/vnd.plotly.v1+json": {
       "config": {
        "plotlyServerURL": "https://plot.ly"
       },
       "data": [
        {
         "colorscale": [
          [
           0,
           "rgb(253, 253, 204)"
          ],
          [
           0.09090909090909091,
           "rgb(206, 236, 179)"
          ],
          [
           0.18181818181818182,
           "rgb(156, 219, 165)"
          ],
          [
           0.2727272727272727,
           "rgb(111, 201, 163)"
          ],
          [
           0.36363636363636365,
           "rgb(86, 177, 163)"
          ],
          [
           0.45454545454545453,
           "rgb(76, 153, 160)"
          ],
          [
           0.5454545454545454,
           "rgb(68, 130, 155)"
          ],
          [
           0.6363636363636364,
           "rgb(62, 108, 150)"
          ],
          [
           0.7272727272727273,
           "rgb(62, 82, 143)"
          ],
          [
           0.8181818181818182,
           "rgb(64, 60, 115)"
          ],
          [
           0.9090909090909091,
           "rgb(54, 43, 77)"
          ],
          [
           1,
           "rgb(39, 26, 44)"
          ]
         ],
         "reversescale": false,
         "showscale": false,
         "type": "heatmap",
         "x": [
          "animals",
          "art",
          "automobiles",
          "fashion",
          "food",
          "houses",
          "technology",
          "travel"
         ],
         "y": [
          "travel",
          "technology",
          "houses",
          "food",
          "fashion",
          "automobiles",
          "art",
          "animals"
         ],
         "z": [
          [
           0.02,
           0.07,
           0.1,
           0.01,
           0.03,
           0.1,
           0.17,
           0.5
          ],
          [
           0.05,
           0.13,
           0.11,
           0.07,
           0.08,
           0.09,
           0.38,
           0.09
          ],
          [
           0.09,
           0.05,
           0.1,
           0.05,
           0.15,
           0.35,
           0.08,
           0.12
          ],
          [
           0.13,
           0.01,
           0.02,
           0.02,
           0.64,
           0.1,
           0.04,
           0.06
          ],
          [
           0.1,
           0.07,
           0.08,
           0.52,
           0.06,
           0.09,
           0.07,
           0.03
          ],
          [
           0.04,
           0.07,
           0.25,
           0.01,
           0.1,
           0.16,
           0.16,
           0.21
          ],
          [
           0.08,
           0.35,
           0.06,
           0.04,
           0.06,
           0.15,
           0.12,
           0.13
          ],
          [
           0.34,
           0.12,
           0.07,
           0.07,
           0.13,
           0.15,
           0.07,
           0.05
          ]
         ]
        }
       ],
       "layout": {
        "annotations": [
         {
          "font": {
           "color": "#000000"
          },
          "showarrow": false,
          "text": "0.02",
          "x": "animals",
          "xref": "x",
          "y": "travel",
          "yref": "y"
         },
         {
          "font": {
           "color": "#000000"
          },
          "showarrow": false,
          "text": "0.07",
          "x": "art",
          "xref": "x",
          "y": "travel",
          "yref": "y"
         },
         {
          "font": {
           "color": "#000000"
          },
          "showarrow": false,
          "text": "0.1",
          "x": "automobiles",
          "xref": "x",
          "y": "travel",
          "yref": "y"
         },
         {
          "font": {
           "color": "#000000"
          },
          "showarrow": false,
          "text": "0.01",
          "x": "fashion",
          "xref": "x",
          "y": "travel",
          "yref": "y"
         },
         {
          "font": {
           "color": "#000000"
          },
          "showarrow": false,
          "text": "0.03",
          "x": "food",
          "xref": "x",
          "y": "travel",
          "yref": "y"
         },
         {
          "font": {
           "color": "#000000"
          },
          "showarrow": false,
          "text": "0.1",
          "x": "houses",
          "xref": "x",
          "y": "travel",
          "yref": "y"
         },
         {
          "font": {
           "color": "#000000"
          },
          "showarrow": false,
          "text": "0.17",
          "x": "technology",
          "xref": "x",
          "y": "travel",
          "yref": "y"
         },
         {
          "font": {
           "color": "#FFFFFF"
          },
          "showarrow": false,
          "text": "0.5",
          "x": "travel",
          "xref": "x",
          "y": "travel",
          "yref": "y"
         },
         {
          "font": {
           "color": "#000000"
          },
          "showarrow": false,
          "text": "0.05",
          "x": "animals",
          "xref": "x",
          "y": "technology",
          "yref": "y"
         },
         {
          "font": {
           "color": "#000000"
          },
          "showarrow": false,
          "text": "0.13",
          "x": "art",
          "xref": "x",
          "y": "technology",
          "yref": "y"
         },
         {
          "font": {
           "color": "#000000"
          },
          "showarrow": false,
          "text": "0.11",
          "x": "automobiles",
          "xref": "x",
          "y": "technology",
          "yref": "y"
         },
         {
          "font": {
           "color": "#000000"
          },
          "showarrow": false,
          "text": "0.07",
          "x": "fashion",
          "xref": "x",
          "y": "technology",
          "yref": "y"
         },
         {
          "font": {
           "color": "#000000"
          },
          "showarrow": false,
          "text": "0.08",
          "x": "food",
          "xref": "x",
          "y": "technology",
          "yref": "y"
         },
         {
          "font": {
           "color": "#000000"
          },
          "showarrow": false,
          "text": "0.09",
          "x": "houses",
          "xref": "x",
          "y": "technology",
          "yref": "y"
         },
         {
          "font": {
           "color": "#FFFFFF"
          },
          "showarrow": false,
          "text": "0.38",
          "x": "technology",
          "xref": "x",
          "y": "technology",
          "yref": "y"
         },
         {
          "font": {
           "color": "#000000"
          },
          "showarrow": false,
          "text": "0.09",
          "x": "travel",
          "xref": "x",
          "y": "technology",
          "yref": "y"
         },
         {
          "font": {
           "color": "#000000"
          },
          "showarrow": false,
          "text": "0.09",
          "x": "animals",
          "xref": "x",
          "y": "houses",
          "yref": "y"
         },
         {
          "font": {
           "color": "#000000"
          },
          "showarrow": false,
          "text": "0.05",
          "x": "art",
          "xref": "x",
          "y": "houses",
          "yref": "y"
         },
         {
          "font": {
           "color": "#000000"
          },
          "showarrow": false,
          "text": "0.1",
          "x": "automobiles",
          "xref": "x",
          "y": "houses",
          "yref": "y"
         },
         {
          "font": {
           "color": "#000000"
          },
          "showarrow": false,
          "text": "0.05",
          "x": "fashion",
          "xref": "x",
          "y": "houses",
          "yref": "y"
         },
         {
          "font": {
           "color": "#000000"
          },
          "showarrow": false,
          "text": "0.15",
          "x": "food",
          "xref": "x",
          "y": "houses",
          "yref": "y"
         },
         {
          "font": {
           "color": "#FFFFFF"
          },
          "showarrow": false,
          "text": "0.35",
          "x": "houses",
          "xref": "x",
          "y": "houses",
          "yref": "y"
         },
         {
          "font": {
           "color": "#000000"
          },
          "showarrow": false,
          "text": "0.08",
          "x": "technology",
          "xref": "x",
          "y": "houses",
          "yref": "y"
         },
         {
          "font": {
           "color": "#000000"
          },
          "showarrow": false,
          "text": "0.12",
          "x": "travel",
          "xref": "x",
          "y": "houses",
          "yref": "y"
         },
         {
          "font": {
           "color": "#000000"
          },
          "showarrow": false,
          "text": "0.13",
          "x": "animals",
          "xref": "x",
          "y": "food",
          "yref": "y"
         },
         {
          "font": {
           "color": "#000000"
          },
          "showarrow": false,
          "text": "0.01",
          "x": "art",
          "xref": "x",
          "y": "food",
          "yref": "y"
         },
         {
          "font": {
           "color": "#000000"
          },
          "showarrow": false,
          "text": "0.02",
          "x": "automobiles",
          "xref": "x",
          "y": "food",
          "yref": "y"
         },
         {
          "font": {
           "color": "#000000"
          },
          "showarrow": false,
          "text": "0.02",
          "x": "fashion",
          "xref": "x",
          "y": "food",
          "yref": "y"
         },
         {
          "font": {
           "color": "#FFFFFF"
          },
          "showarrow": false,
          "text": "0.64",
          "x": "food",
          "xref": "x",
          "y": "food",
          "yref": "y"
         },
         {
          "font": {
           "color": "#000000"
          },
          "showarrow": false,
          "text": "0.1",
          "x": "houses",
          "xref": "x",
          "y": "food",
          "yref": "y"
         },
         {
          "font": {
           "color": "#000000"
          },
          "showarrow": false,
          "text": "0.04",
          "x": "technology",
          "xref": "x",
          "y": "food",
          "yref": "y"
         },
         {
          "font": {
           "color": "#000000"
          },
          "showarrow": false,
          "text": "0.06",
          "x": "travel",
          "xref": "x",
          "y": "food",
          "yref": "y"
         },
         {
          "font": {
           "color": "#000000"
          },
          "showarrow": false,
          "text": "0.1",
          "x": "animals",
          "xref": "x",
          "y": "fashion",
          "yref": "y"
         },
         {
          "font": {
           "color": "#000000"
          },
          "showarrow": false,
          "text": "0.07",
          "x": "art",
          "xref": "x",
          "y": "fashion",
          "yref": "y"
         },
         {
          "font": {
           "color": "#000000"
          },
          "showarrow": false,
          "text": "0.08",
          "x": "automobiles",
          "xref": "x",
          "y": "fashion",
          "yref": "y"
         },
         {
          "font": {
           "color": "#FFFFFF"
          },
          "showarrow": false,
          "text": "0.52",
          "x": "fashion",
          "xref": "x",
          "y": "fashion",
          "yref": "y"
         },
         {
          "font": {
           "color": "#000000"
          },
          "showarrow": false,
          "text": "0.06",
          "x": "food",
          "xref": "x",
          "y": "fashion",
          "yref": "y"
         },
         {
          "font": {
           "color": "#000000"
          },
          "showarrow": false,
          "text": "0.09",
          "x": "houses",
          "xref": "x",
          "y": "fashion",
          "yref": "y"
         },
         {
          "font": {
           "color": "#000000"
          },
          "showarrow": false,
          "text": "0.07",
          "x": "technology",
          "xref": "x",
          "y": "fashion",
          "yref": "y"
         },
         {
          "font": {
           "color": "#000000"
          },
          "showarrow": false,
          "text": "0.03",
          "x": "travel",
          "xref": "x",
          "y": "fashion",
          "yref": "y"
         },
         {
          "font": {
           "color": "#000000"
          },
          "showarrow": false,
          "text": "0.04",
          "x": "animals",
          "xref": "x",
          "y": "automobiles",
          "yref": "y"
         },
         {
          "font": {
           "color": "#000000"
          },
          "showarrow": false,
          "text": "0.07",
          "x": "art",
          "xref": "x",
          "y": "automobiles",
          "yref": "y"
         },
         {
          "font": {
           "color": "#000000"
          },
          "showarrow": false,
          "text": "0.25",
          "x": "automobiles",
          "xref": "x",
          "y": "automobiles",
          "yref": "y"
         },
         {
          "font": {
           "color": "#000000"
          },
          "showarrow": false,
          "text": "0.01",
          "x": "fashion",
          "xref": "x",
          "y": "automobiles",
          "yref": "y"
         },
         {
          "font": {
           "color": "#000000"
          },
          "showarrow": false,
          "text": "0.1",
          "x": "food",
          "xref": "x",
          "y": "automobiles",
          "yref": "y"
         },
         {
          "font": {
           "color": "#000000"
          },
          "showarrow": false,
          "text": "0.16",
          "x": "houses",
          "xref": "x",
          "y": "automobiles",
          "yref": "y"
         },
         {
          "font": {
           "color": "#000000"
          },
          "showarrow": false,
          "text": "0.16",
          "x": "technology",
          "xref": "x",
          "y": "automobiles",
          "yref": "y"
         },
         {
          "font": {
           "color": "#000000"
          },
          "showarrow": false,
          "text": "0.21",
          "x": "travel",
          "xref": "x",
          "y": "automobiles",
          "yref": "y"
         },
         {
          "font": {
           "color": "#000000"
          },
          "showarrow": false,
          "text": "0.08",
          "x": "animals",
          "xref": "x",
          "y": "art",
          "yref": "y"
         },
         {
          "font": {
           "color": "#FFFFFF"
          },
          "showarrow": false,
          "text": "0.35",
          "x": "art",
          "xref": "x",
          "y": "art",
          "yref": "y"
         },
         {
          "font": {
           "color": "#000000"
          },
          "showarrow": false,
          "text": "0.06",
          "x": "automobiles",
          "xref": "x",
          "y": "art",
          "yref": "y"
         },
         {
          "font": {
           "color": "#000000"
          },
          "showarrow": false,
          "text": "0.04",
          "x": "fashion",
          "xref": "x",
          "y": "art",
          "yref": "y"
         },
         {
          "font": {
           "color": "#000000"
          },
          "showarrow": false,
          "text": "0.06",
          "x": "food",
          "xref": "x",
          "y": "art",
          "yref": "y"
         },
         {
          "font": {
           "color": "#000000"
          },
          "showarrow": false,
          "text": "0.15",
          "x": "houses",
          "xref": "x",
          "y": "art",
          "yref": "y"
         },
         {
          "font": {
           "color": "#000000"
          },
          "showarrow": false,
          "text": "0.12",
          "x": "technology",
          "xref": "x",
          "y": "art",
          "yref": "y"
         },
         {
          "font": {
           "color": "#000000"
          },
          "showarrow": false,
          "text": "0.13",
          "x": "travel",
          "xref": "x",
          "y": "art",
          "yref": "y"
         },
         {
          "font": {
           "color": "#FFFFFF"
          },
          "showarrow": false,
          "text": "0.34",
          "x": "animals",
          "xref": "x",
          "y": "animals",
          "yref": "y"
         },
         {
          "font": {
           "color": "#000000"
          },
          "showarrow": false,
          "text": "0.12",
          "x": "art",
          "xref": "x",
          "y": "animals",
          "yref": "y"
         },
         {
          "font": {
           "color": "#000000"
          },
          "showarrow": false,
          "text": "0.07",
          "x": "automobiles",
          "xref": "x",
          "y": "animals",
          "yref": "y"
         },
         {
          "font": {
           "color": "#000000"
          },
          "showarrow": false,
          "text": "0.07",
          "x": "fashion",
          "xref": "x",
          "y": "animals",
          "yref": "y"
         },
         {
          "font": {
           "color": "#000000"
          },
          "showarrow": false,
          "text": "0.13",
          "x": "food",
          "xref": "x",
          "y": "animals",
          "yref": "y"
         },
         {
          "font": {
           "color": "#000000"
          },
          "showarrow": false,
          "text": "0.15",
          "x": "houses",
          "xref": "x",
          "y": "animals",
          "yref": "y"
         },
         {
          "font": {
           "color": "#000000"
          },
          "showarrow": false,
          "text": "0.07",
          "x": "technology",
          "xref": "x",
          "y": "animals",
          "yref": "y"
         },
         {
          "font": {
           "color": "#000000"
          },
          "showarrow": false,
          "text": "0.05",
          "x": "travel",
          "xref": "x",
          "y": "animals",
          "yref": "y"
         }
        ],
        "height": 700,
        "template": {
         "data": {
          "scatter": [
           {
            "type": "scatter"
           }
          ]
         }
        },
        "title": {
         "x": 0.47,
         "xanchor": "center",
         "y": 0.95,
         "yanchor": "top"
        },
        "width": 700,
        "xaxis": {
         "dtick": 1,
         "gridcolor": "rgb(0, 0, 0)",
         "showgrid": false,
         "side": "bottom",
         "ticks": "",
         "title": {
          "text": "predicted label"
         }
        },
        "yaxis": {
         "dtick": 1,
         "showgrid": false,
         "ticks": "",
         "ticksuffix": "  ",
         "title": {
          "text": "true label"
         }
        }
       }
      },
      "text/html": [
       "<div>\n",
       "        \n",
       "        \n",
       "            <div id=\"a961e3ba-adaf-4252-bc01-2d327f04c757\" class=\"plotly-graph-div\" style=\"height:700px; width:700px;\"></div>\n",
       "            <script type=\"text/javascript\">\n",
       "                require([\"plotly\"], function(Plotly) {\n",
       "                    window.PLOTLYENV=window.PLOTLYENV || {};\n",
       "                    \n",
       "                if (document.getElementById(\"a961e3ba-adaf-4252-bc01-2d327f04c757\")) {\n",
       "                    Plotly.newPlot(\n",
       "                        'a961e3ba-adaf-4252-bc01-2d327f04c757',\n",
       "                        [{\"colorscale\": [[0.0, \"rgb(253, 253, 204)\"], [0.09090909090909091, \"rgb(206, 236, 179)\"], [0.18181818181818182, \"rgb(156, 219, 165)\"], [0.2727272727272727, \"rgb(111, 201, 163)\"], [0.36363636363636365, \"rgb(86, 177, 163)\"], [0.45454545454545453, \"rgb(76, 153, 160)\"], [0.5454545454545454, \"rgb(68, 130, 155)\"], [0.6363636363636364, \"rgb(62, 108, 150)\"], [0.7272727272727273, \"rgb(62, 82, 143)\"], [0.8181818181818182, \"rgb(64, 60, 115)\"], [0.9090909090909091, \"rgb(54, 43, 77)\"], [1.0, \"rgb(39, 26, 44)\"]], \"reversescale\": false, \"showscale\": false, \"type\": \"heatmap\", \"x\": [\"animals\", \"art\", \"automobiles\", \"fashion\", \"food\", \"houses\", \"technology\", \"travel\"], \"y\": [\"travel\", \"technology\", \"houses\", \"food\", \"fashion\", \"automobiles\", \"art\", \"animals\"], \"z\": [[0.02, 0.07, 0.1, 0.01, 0.03, 0.1, 0.17, 0.5], [0.05, 0.13, 0.11, 0.07, 0.08, 0.09, 0.38, 0.09], [0.09, 0.05, 0.1, 0.05, 0.15, 0.35, 0.08, 0.12], [0.13, 0.01, 0.02, 0.02, 0.64, 0.1, 0.04, 0.06], [0.1, 0.07, 0.08, 0.52, 0.06, 0.09, 0.07, 0.03], [0.04, 0.07, 0.25, 0.01, 0.1, 0.16, 0.16, 0.21], [0.08, 0.35, 0.06, 0.04, 0.06, 0.15, 0.12, 0.13], [0.34, 0.12, 0.07, 0.07, 0.13, 0.15, 0.07, 0.05]]}],\n",
       "                        {\"annotations\": [{\"font\": {\"color\": \"#000000\"}, \"showarrow\": false, \"text\": \"0.02\", \"x\": \"animals\", \"xref\": \"x\", \"y\": \"travel\", \"yref\": \"y\"}, {\"font\": {\"color\": \"#000000\"}, \"showarrow\": false, \"text\": \"0.07\", \"x\": \"art\", \"xref\": \"x\", \"y\": \"travel\", \"yref\": \"y\"}, {\"font\": {\"color\": \"#000000\"}, \"showarrow\": false, \"text\": \"0.1\", \"x\": \"automobiles\", \"xref\": \"x\", \"y\": \"travel\", \"yref\": \"y\"}, {\"font\": {\"color\": \"#000000\"}, \"showarrow\": false, \"text\": \"0.01\", \"x\": \"fashion\", \"xref\": \"x\", \"y\": \"travel\", \"yref\": \"y\"}, {\"font\": {\"color\": \"#000000\"}, \"showarrow\": false, \"text\": \"0.03\", \"x\": \"food\", \"xref\": \"x\", \"y\": \"travel\", \"yref\": \"y\"}, {\"font\": {\"color\": \"#000000\"}, \"showarrow\": false, \"text\": \"0.1\", \"x\": \"houses\", \"xref\": \"x\", \"y\": \"travel\", \"yref\": \"y\"}, {\"font\": {\"color\": \"#000000\"}, \"showarrow\": false, \"text\": \"0.17\", \"x\": \"technology\", \"xref\": \"x\", \"y\": \"travel\", \"yref\": \"y\"}, {\"font\": {\"color\": \"#FFFFFF\"}, \"showarrow\": false, \"text\": \"0.5\", \"x\": \"travel\", \"xref\": \"x\", \"y\": \"travel\", \"yref\": \"y\"}, {\"font\": {\"color\": \"#000000\"}, \"showarrow\": false, \"text\": \"0.05\", \"x\": \"animals\", \"xref\": \"x\", \"y\": \"technology\", \"yref\": \"y\"}, {\"font\": {\"color\": \"#000000\"}, \"showarrow\": false, \"text\": \"0.13\", \"x\": \"art\", \"xref\": \"x\", \"y\": \"technology\", \"yref\": \"y\"}, {\"font\": {\"color\": \"#000000\"}, \"showarrow\": false, \"text\": \"0.11\", \"x\": \"automobiles\", \"xref\": \"x\", \"y\": \"technology\", \"yref\": \"y\"}, {\"font\": {\"color\": \"#000000\"}, \"showarrow\": false, \"text\": \"0.07\", \"x\": \"fashion\", \"xref\": \"x\", \"y\": \"technology\", \"yref\": \"y\"}, {\"font\": {\"color\": \"#000000\"}, \"showarrow\": false, \"text\": \"0.08\", \"x\": \"food\", \"xref\": \"x\", \"y\": \"technology\", \"yref\": \"y\"}, {\"font\": {\"color\": \"#000000\"}, \"showarrow\": false, \"text\": \"0.09\", \"x\": \"houses\", \"xref\": \"x\", \"y\": \"technology\", \"yref\": \"y\"}, {\"font\": {\"color\": \"#FFFFFF\"}, \"showarrow\": false, \"text\": \"0.38\", \"x\": \"technology\", \"xref\": \"x\", \"y\": \"technology\", \"yref\": \"y\"}, {\"font\": {\"color\": \"#000000\"}, \"showarrow\": false, \"text\": \"0.09\", \"x\": \"travel\", \"xref\": \"x\", \"y\": \"technology\", \"yref\": \"y\"}, {\"font\": {\"color\": \"#000000\"}, \"showarrow\": false, \"text\": \"0.09\", \"x\": \"animals\", \"xref\": \"x\", \"y\": \"houses\", \"yref\": \"y\"}, {\"font\": {\"color\": \"#000000\"}, \"showarrow\": false, \"text\": \"0.05\", \"x\": \"art\", \"xref\": \"x\", \"y\": \"houses\", \"yref\": \"y\"}, {\"font\": {\"color\": \"#000000\"}, \"showarrow\": false, \"text\": \"0.1\", \"x\": \"automobiles\", \"xref\": \"x\", \"y\": \"houses\", \"yref\": \"y\"}, {\"font\": {\"color\": \"#000000\"}, \"showarrow\": false, \"text\": \"0.05\", \"x\": \"fashion\", \"xref\": \"x\", \"y\": \"houses\", \"yref\": \"y\"}, {\"font\": {\"color\": \"#000000\"}, \"showarrow\": false, \"text\": \"0.15\", \"x\": \"food\", \"xref\": \"x\", \"y\": \"houses\", \"yref\": \"y\"}, {\"font\": {\"color\": \"#FFFFFF\"}, \"showarrow\": false, \"text\": \"0.35\", \"x\": \"houses\", \"xref\": \"x\", \"y\": \"houses\", \"yref\": \"y\"}, {\"font\": {\"color\": \"#000000\"}, \"showarrow\": false, \"text\": \"0.08\", \"x\": \"technology\", \"xref\": \"x\", \"y\": \"houses\", \"yref\": \"y\"}, {\"font\": {\"color\": \"#000000\"}, \"showarrow\": false, \"text\": \"0.12\", \"x\": \"travel\", \"xref\": \"x\", \"y\": \"houses\", \"yref\": \"y\"}, {\"font\": {\"color\": \"#000000\"}, \"showarrow\": false, \"text\": \"0.13\", \"x\": \"animals\", \"xref\": \"x\", \"y\": \"food\", \"yref\": \"y\"}, {\"font\": {\"color\": \"#000000\"}, \"showarrow\": false, \"text\": \"0.01\", \"x\": \"art\", \"xref\": \"x\", \"y\": \"food\", \"yref\": \"y\"}, {\"font\": {\"color\": \"#000000\"}, \"showarrow\": false, \"text\": \"0.02\", \"x\": \"automobiles\", \"xref\": \"x\", \"y\": \"food\", \"yref\": \"y\"}, {\"font\": {\"color\": \"#000000\"}, \"showarrow\": false, \"text\": \"0.02\", \"x\": \"fashion\", \"xref\": \"x\", \"y\": \"food\", \"yref\": \"y\"}, {\"font\": {\"color\": \"#FFFFFF\"}, \"showarrow\": false, \"text\": \"0.64\", \"x\": \"food\", \"xref\": \"x\", \"y\": \"food\", \"yref\": \"y\"}, {\"font\": {\"color\": \"#000000\"}, \"showarrow\": false, \"text\": \"0.1\", \"x\": \"houses\", \"xref\": \"x\", \"y\": \"food\", \"yref\": \"y\"}, {\"font\": {\"color\": \"#000000\"}, \"showarrow\": false, \"text\": \"0.04\", \"x\": \"technology\", \"xref\": \"x\", \"y\": \"food\", \"yref\": \"y\"}, {\"font\": {\"color\": \"#000000\"}, \"showarrow\": false, \"text\": \"0.06\", \"x\": \"travel\", \"xref\": \"x\", \"y\": \"food\", \"yref\": \"y\"}, {\"font\": {\"color\": \"#000000\"}, \"showarrow\": false, \"text\": \"0.1\", \"x\": \"animals\", \"xref\": \"x\", \"y\": \"fashion\", \"yref\": \"y\"}, {\"font\": {\"color\": \"#000000\"}, \"showarrow\": false, \"text\": \"0.07\", \"x\": \"art\", \"xref\": \"x\", \"y\": \"fashion\", \"yref\": \"y\"}, {\"font\": {\"color\": \"#000000\"}, \"showarrow\": false, \"text\": \"0.08\", \"x\": \"automobiles\", \"xref\": \"x\", \"y\": \"fashion\", \"yref\": \"y\"}, {\"font\": {\"color\": \"#FFFFFF\"}, \"showarrow\": false, \"text\": \"0.52\", \"x\": \"fashion\", \"xref\": \"x\", \"y\": \"fashion\", \"yref\": \"y\"}, {\"font\": {\"color\": \"#000000\"}, \"showarrow\": false, \"text\": \"0.06\", \"x\": \"food\", \"xref\": \"x\", \"y\": \"fashion\", \"yref\": \"y\"}, {\"font\": {\"color\": \"#000000\"}, \"showarrow\": false, \"text\": \"0.09\", \"x\": \"houses\", \"xref\": \"x\", \"y\": \"fashion\", \"yref\": \"y\"}, {\"font\": {\"color\": \"#000000\"}, \"showarrow\": false, \"text\": \"0.07\", \"x\": \"technology\", \"xref\": \"x\", \"y\": \"fashion\", \"yref\": \"y\"}, {\"font\": {\"color\": \"#000000\"}, \"showarrow\": false, \"text\": \"0.03\", \"x\": \"travel\", \"xref\": \"x\", \"y\": \"fashion\", \"yref\": \"y\"}, {\"font\": {\"color\": \"#000000\"}, \"showarrow\": false, \"text\": \"0.04\", \"x\": \"animals\", \"xref\": \"x\", \"y\": \"automobiles\", \"yref\": \"y\"}, {\"font\": {\"color\": \"#000000\"}, \"showarrow\": false, \"text\": \"0.07\", \"x\": \"art\", \"xref\": \"x\", \"y\": \"automobiles\", \"yref\": \"y\"}, {\"font\": {\"color\": \"#000000\"}, \"showarrow\": false, \"text\": \"0.25\", \"x\": \"automobiles\", \"xref\": \"x\", \"y\": \"automobiles\", \"yref\": \"y\"}, {\"font\": {\"color\": \"#000000\"}, \"showarrow\": false, \"text\": \"0.01\", \"x\": \"fashion\", \"xref\": \"x\", \"y\": \"automobiles\", \"yref\": \"y\"}, {\"font\": {\"color\": \"#000000\"}, \"showarrow\": false, \"text\": \"0.1\", \"x\": \"food\", \"xref\": \"x\", \"y\": \"automobiles\", \"yref\": \"y\"}, {\"font\": {\"color\": \"#000000\"}, \"showarrow\": false, \"text\": \"0.16\", \"x\": \"houses\", \"xref\": \"x\", \"y\": \"automobiles\", \"yref\": \"y\"}, {\"font\": {\"color\": \"#000000\"}, \"showarrow\": false, \"text\": \"0.16\", \"x\": \"technology\", \"xref\": \"x\", \"y\": \"automobiles\", \"yref\": \"y\"}, {\"font\": {\"color\": \"#000000\"}, \"showarrow\": false, \"text\": \"0.21\", \"x\": \"travel\", \"xref\": \"x\", \"y\": \"automobiles\", \"yref\": \"y\"}, {\"font\": {\"color\": \"#000000\"}, \"showarrow\": false, \"text\": \"0.08\", \"x\": \"animals\", \"xref\": \"x\", \"y\": \"art\", \"yref\": \"y\"}, {\"font\": {\"color\": \"#FFFFFF\"}, \"showarrow\": false, \"text\": \"0.35\", \"x\": \"art\", \"xref\": \"x\", \"y\": \"art\", \"yref\": \"y\"}, {\"font\": {\"color\": \"#000000\"}, \"showarrow\": false, \"text\": \"0.06\", \"x\": \"automobiles\", \"xref\": \"x\", \"y\": \"art\", \"yref\": \"y\"}, {\"font\": {\"color\": \"#000000\"}, \"showarrow\": false, \"text\": \"0.04\", \"x\": \"fashion\", \"xref\": \"x\", \"y\": \"art\", \"yref\": \"y\"}, {\"font\": {\"color\": \"#000000\"}, \"showarrow\": false, \"text\": \"0.06\", \"x\": \"food\", \"xref\": \"x\", \"y\": \"art\", \"yref\": \"y\"}, {\"font\": {\"color\": \"#000000\"}, \"showarrow\": false, \"text\": \"0.15\", \"x\": \"houses\", \"xref\": \"x\", \"y\": \"art\", \"yref\": \"y\"}, {\"font\": {\"color\": \"#000000\"}, \"showarrow\": false, \"text\": \"0.12\", \"x\": \"technology\", \"xref\": \"x\", \"y\": \"art\", \"yref\": \"y\"}, {\"font\": {\"color\": \"#000000\"}, \"showarrow\": false, \"text\": \"0.13\", \"x\": \"travel\", \"xref\": \"x\", \"y\": \"art\", \"yref\": \"y\"}, {\"font\": {\"color\": \"#FFFFFF\"}, \"showarrow\": false, \"text\": \"0.34\", \"x\": \"animals\", \"xref\": \"x\", \"y\": \"animals\", \"yref\": \"y\"}, {\"font\": {\"color\": \"#000000\"}, \"showarrow\": false, \"text\": \"0.12\", \"x\": \"art\", \"xref\": \"x\", \"y\": \"animals\", \"yref\": \"y\"}, {\"font\": {\"color\": \"#000000\"}, \"showarrow\": false, \"text\": \"0.07\", \"x\": \"automobiles\", \"xref\": \"x\", \"y\": \"animals\", \"yref\": \"y\"}, {\"font\": {\"color\": \"#000000\"}, \"showarrow\": false, \"text\": \"0.07\", \"x\": \"fashion\", \"xref\": \"x\", \"y\": \"animals\", \"yref\": \"y\"}, {\"font\": {\"color\": \"#000000\"}, \"showarrow\": false, \"text\": \"0.13\", \"x\": \"food\", \"xref\": \"x\", \"y\": \"animals\", \"yref\": \"y\"}, {\"font\": {\"color\": \"#000000\"}, \"showarrow\": false, \"text\": \"0.15\", \"x\": \"houses\", \"xref\": \"x\", \"y\": \"animals\", \"yref\": \"y\"}, {\"font\": {\"color\": \"#000000\"}, \"showarrow\": false, \"text\": \"0.07\", \"x\": \"technology\", \"xref\": \"x\", \"y\": \"animals\", \"yref\": \"y\"}, {\"font\": {\"color\": \"#000000\"}, \"showarrow\": false, \"text\": \"0.05\", \"x\": \"travel\", \"xref\": \"x\", \"y\": \"animals\", \"yref\": \"y\"}], \"height\": 700, \"template\": {\"data\": {\"scatter\": [{\"type\": \"scatter\"}]}}, \"title\": {\"x\": 0.47, \"xanchor\": \"center\", \"y\": 0.95, \"yanchor\": \"top\"}, \"width\": 700, \"xaxis\": {\"dtick\": 1, \"gridcolor\": \"rgb(0, 0, 0)\", \"showgrid\": false, \"side\": \"bottom\", \"ticks\": \"\", \"title\": {\"text\": \"predicted label\"}}, \"yaxis\": {\"dtick\": 1, \"showgrid\": false, \"ticks\": \"\", \"ticksuffix\": \"  \", \"title\": {\"text\": \"true label\"}}},\n",
       "                        {\"responsive\": true}\n",
       "                    ).then(function(){\n",
       "                            \n",
       "var gd = document.getElementById('a961e3ba-adaf-4252-bc01-2d327f04c757');\n",
       "var x = new MutationObserver(function (mutations, observer) {{\n",
       "        var display = window.getComputedStyle(gd).display;\n",
       "        if (!display || display === 'none') {{\n",
       "            console.log([gd, 'removed!']);\n",
       "            Plotly.purge(gd);\n",
       "            observer.disconnect();\n",
       "        }}\n",
       "}});\n",
       "\n",
       "// Listen for the removal of the full notebook cells\n",
       "var notebookContainer = gd.closest('#notebook-container');\n",
       "if (notebookContainer) {{\n",
       "    x.observe(notebookContainer, {childList: true});\n",
       "}}\n",
       "\n",
       "// Listen for the clearing of the current output cell\n",
       "var outputEl = gd.closest('.output');\n",
       "if (outputEl) {{\n",
       "    x.observe(outputEl, {childList: true});\n",
       "}}\n",
       "\n",
       "                        })\n",
       "                };\n",
       "                });\n",
       "            </script>\n",
       "        </div>"
      ]
     },
     "metadata": {},
     "output_type": "display_data"
    }
   ],
   "source": [
    "import plotly.figure_factory as ff\n",
    "\n",
    "z = cfm_n\n",
    "x = ['animals','art','automobiles','fashion','food','houses','technology','travel']\n",
    "y = ['travel','technology','houses','food','fashion','automobiles','art','animals']\n",
    "\n",
    "fig = ff.create_annotated_heatmap(z, x=x, y=y, annotation_text=z, colorscale='deep')\n",
    "fig.update_layout(width=700, height=700, xaxis_showgrid=False, yaxis_showgrid=False, template='none')\n",
    "fig.update_layout(title={\n",
    "        #'text': \"Results using 1D CNN\",\n",
    "        'y':0.95,\n",
    "        'x':0.47,\n",
    "        'xanchor': 'center',\n",
    "        'yanchor': 'top'},\n",
    "        xaxis_title='predicted label',\n",
    "        yaxis_title='true label')\n",
    "fig['layout']['xaxis']['side'] = 'bottom'\n",
    "fig.show()"
   ]
  },
  {
   "cell_type": "code",
   "execution_count": 20,
   "metadata": {},
   "outputs": [
    {
     "data": {
      "application/vnd.plotly.v1+json": {
       "config": {
        "plotlyServerURL": "https://plot.ly"
       },
       "data": [
        {
         "colorscale": [
          [
           0,
           "rgb(253, 253, 204)"
          ],
          [
           0.09090909090909091,
           "rgb(206, 236, 179)"
          ],
          [
           0.18181818181818182,
           "rgb(156, 219, 165)"
          ],
          [
           0.2727272727272727,
           "rgb(111, 201, 163)"
          ],
          [
           0.36363636363636365,
           "rgb(86, 177, 163)"
          ],
          [
           0.45454545454545453,
           "rgb(76, 153, 160)"
          ],
          [
           0.5454545454545454,
           "rgb(68, 130, 155)"
          ],
          [
           0.6363636363636364,
           "rgb(62, 108, 150)"
          ],
          [
           0.7272727272727273,
           "rgb(62, 82, 143)"
          ],
          [
           0.8181818181818182,
           "rgb(64, 60, 115)"
          ],
          [
           0.9090909090909091,
           "rgb(54, 43, 77)"
          ],
          [
           1,
           "rgb(39, 26, 44)"
          ]
         ],
         "reversescale": false,
         "showscale": false,
         "type": "heatmap",
         "x": [
          "animals",
          "art",
          "automobiles",
          "fashion",
          "food",
          "houses",
          "technology",
          "travel"
         ],
         "y": [
          "travel",
          "technology",
          "houses",
          "food",
          "fashion",
          "automobiles",
          "art",
          "animals"
         ],
         "z": [
          [
           0.02,
           0.07,
           0.1,
           0.01,
           0.03,
           0.1,
           0.17,
           0.5
          ],
          [
           0.05,
           0.13,
           0.11,
           0.07,
           0.08,
           0.09,
           0.38,
           0.09
          ],
          [
           0.09,
           0.05,
           0.1,
           0.05,
           0.15,
           0.35,
           0.08,
           0.12
          ],
          [
           0.13,
           0.01,
           0.02,
           0.02,
           0.64,
           0.1,
           0.04,
           0.06
          ],
          [
           0.1,
           0.07,
           0.08,
           0.52,
           0.06,
           0.09,
           0.07,
           0.03
          ],
          [
           0.04,
           0.07,
           0.25,
           0.01,
           0.1,
           0.16,
           0.16,
           0.21
          ],
          [
           0.08,
           0.35,
           0.06,
           0.04,
           0.06,
           0.15,
           0.12,
           0.13
          ],
          [
           0.34,
           0.12,
           0.07,
           0.07,
           0.13,
           0.15,
           0.07,
           0.05
          ]
         ]
        }
       ],
       "layout": {
        "annotations": [
         {
          "font": {
           "color": "#000000"
          },
          "showarrow": false,
          "text": "0.02",
          "x": "animals",
          "xref": "x",
          "y": "travel",
          "yref": "y"
         },
         {
          "font": {
           "color": "#000000"
          },
          "showarrow": false,
          "text": "0.07",
          "x": "art",
          "xref": "x",
          "y": "travel",
          "yref": "y"
         },
         {
          "font": {
           "color": "#000000"
          },
          "showarrow": false,
          "text": "0.1",
          "x": "automobiles",
          "xref": "x",
          "y": "travel",
          "yref": "y"
         },
         {
          "font": {
           "color": "#000000"
          },
          "showarrow": false,
          "text": "0.01",
          "x": "fashion",
          "xref": "x",
          "y": "travel",
          "yref": "y"
         },
         {
          "font": {
           "color": "#000000"
          },
          "showarrow": false,
          "text": "0.03",
          "x": "food",
          "xref": "x",
          "y": "travel",
          "yref": "y"
         },
         {
          "font": {
           "color": "#000000"
          },
          "showarrow": false,
          "text": "0.1",
          "x": "houses",
          "xref": "x",
          "y": "travel",
          "yref": "y"
         },
         {
          "font": {
           "color": "#000000"
          },
          "showarrow": false,
          "text": "0.17",
          "x": "technology",
          "xref": "x",
          "y": "travel",
          "yref": "y"
         },
         {
          "font": {
           "color": "#FFFFFF"
          },
          "showarrow": false,
          "text": "0.5",
          "x": "travel",
          "xref": "x",
          "y": "travel",
          "yref": "y"
         },
         {
          "font": {
           "color": "#000000"
          },
          "showarrow": false,
          "text": "0.05",
          "x": "animals",
          "xref": "x",
          "y": "technology",
          "yref": "y"
         },
         {
          "font": {
           "color": "#000000"
          },
          "showarrow": false,
          "text": "0.13",
          "x": "art",
          "xref": "x",
          "y": "technology",
          "yref": "y"
         },
         {
          "font": {
           "color": "#000000"
          },
          "showarrow": false,
          "text": "0.11",
          "x": "automobiles",
          "xref": "x",
          "y": "technology",
          "yref": "y"
         },
         {
          "font": {
           "color": "#000000"
          },
          "showarrow": false,
          "text": "0.07",
          "x": "fashion",
          "xref": "x",
          "y": "technology",
          "yref": "y"
         },
         {
          "font": {
           "color": "#000000"
          },
          "showarrow": false,
          "text": "0.08",
          "x": "food",
          "xref": "x",
          "y": "technology",
          "yref": "y"
         },
         {
          "font": {
           "color": "#000000"
          },
          "showarrow": false,
          "text": "0.09",
          "x": "houses",
          "xref": "x",
          "y": "technology",
          "yref": "y"
         },
         {
          "font": {
           "color": "#FFFFFF"
          },
          "showarrow": false,
          "text": "0.38",
          "x": "technology",
          "xref": "x",
          "y": "technology",
          "yref": "y"
         },
         {
          "font": {
           "color": "#000000"
          },
          "showarrow": false,
          "text": "0.09",
          "x": "travel",
          "xref": "x",
          "y": "technology",
          "yref": "y"
         },
         {
          "font": {
           "color": "#000000"
          },
          "showarrow": false,
          "text": "0.09",
          "x": "animals",
          "xref": "x",
          "y": "houses",
          "yref": "y"
         },
         {
          "font": {
           "color": "#000000"
          },
          "showarrow": false,
          "text": "0.05",
          "x": "art",
          "xref": "x",
          "y": "houses",
          "yref": "y"
         },
         {
          "font": {
           "color": "#000000"
          },
          "showarrow": false,
          "text": "0.1",
          "x": "automobiles",
          "xref": "x",
          "y": "houses",
          "yref": "y"
         },
         {
          "font": {
           "color": "#000000"
          },
          "showarrow": false,
          "text": "0.05",
          "x": "fashion",
          "xref": "x",
          "y": "houses",
          "yref": "y"
         },
         {
          "font": {
           "color": "#000000"
          },
          "showarrow": false,
          "text": "0.15",
          "x": "food",
          "xref": "x",
          "y": "houses",
          "yref": "y"
         },
         {
          "font": {
           "color": "#FFFFFF"
          },
          "showarrow": false,
          "text": "0.35",
          "x": "houses",
          "xref": "x",
          "y": "houses",
          "yref": "y"
         },
         {
          "font": {
           "color": "#000000"
          },
          "showarrow": false,
          "text": "0.08",
          "x": "technology",
          "xref": "x",
          "y": "houses",
          "yref": "y"
         },
         {
          "font": {
           "color": "#000000"
          },
          "showarrow": false,
          "text": "0.12",
          "x": "travel",
          "xref": "x",
          "y": "houses",
          "yref": "y"
         },
         {
          "font": {
           "color": "#000000"
          },
          "showarrow": false,
          "text": "0.13",
          "x": "animals",
          "xref": "x",
          "y": "food",
          "yref": "y"
         },
         {
          "font": {
           "color": "#000000"
          },
          "showarrow": false,
          "text": "0.01",
          "x": "art",
          "xref": "x",
          "y": "food",
          "yref": "y"
         },
         {
          "font": {
           "color": "#000000"
          },
          "showarrow": false,
          "text": "0.02",
          "x": "automobiles",
          "xref": "x",
          "y": "food",
          "yref": "y"
         },
         {
          "font": {
           "color": "#000000"
          },
          "showarrow": false,
          "text": "0.02",
          "x": "fashion",
          "xref": "x",
          "y": "food",
          "yref": "y"
         },
         {
          "font": {
           "color": "#FFFFFF"
          },
          "showarrow": false,
          "text": "0.64",
          "x": "food",
          "xref": "x",
          "y": "food",
          "yref": "y"
         },
         {
          "font": {
           "color": "#000000"
          },
          "showarrow": false,
          "text": "0.1",
          "x": "houses",
          "xref": "x",
          "y": "food",
          "yref": "y"
         },
         {
          "font": {
           "color": "#000000"
          },
          "showarrow": false,
          "text": "0.04",
          "x": "technology",
          "xref": "x",
          "y": "food",
          "yref": "y"
         },
         {
          "font": {
           "color": "#000000"
          },
          "showarrow": false,
          "text": "0.06",
          "x": "travel",
          "xref": "x",
          "y": "food",
          "yref": "y"
         },
         {
          "font": {
           "color": "#000000"
          },
          "showarrow": false,
          "text": "0.1",
          "x": "animals",
          "xref": "x",
          "y": "fashion",
          "yref": "y"
         },
         {
          "font": {
           "color": "#000000"
          },
          "showarrow": false,
          "text": "0.07",
          "x": "art",
          "xref": "x",
          "y": "fashion",
          "yref": "y"
         },
         {
          "font": {
           "color": "#000000"
          },
          "showarrow": false,
          "text": "0.08",
          "x": "automobiles",
          "xref": "x",
          "y": "fashion",
          "yref": "y"
         },
         {
          "font": {
           "color": "#FFFFFF"
          },
          "showarrow": false,
          "text": "0.52",
          "x": "fashion",
          "xref": "x",
          "y": "fashion",
          "yref": "y"
         },
         {
          "font": {
           "color": "#000000"
          },
          "showarrow": false,
          "text": "0.06",
          "x": "food",
          "xref": "x",
          "y": "fashion",
          "yref": "y"
         },
         {
          "font": {
           "color": "#000000"
          },
          "showarrow": false,
          "text": "0.09",
          "x": "houses",
          "xref": "x",
          "y": "fashion",
          "yref": "y"
         },
         {
          "font": {
           "color": "#000000"
          },
          "showarrow": false,
          "text": "0.07",
          "x": "technology",
          "xref": "x",
          "y": "fashion",
          "yref": "y"
         },
         {
          "font": {
           "color": "#000000"
          },
          "showarrow": false,
          "text": "0.03",
          "x": "travel",
          "xref": "x",
          "y": "fashion",
          "yref": "y"
         },
         {
          "font": {
           "color": "#000000"
          },
          "showarrow": false,
          "text": "0.04",
          "x": "animals",
          "xref": "x",
          "y": "automobiles",
          "yref": "y"
         },
         {
          "font": {
           "color": "#000000"
          },
          "showarrow": false,
          "text": "0.07",
          "x": "art",
          "xref": "x",
          "y": "automobiles",
          "yref": "y"
         },
         {
          "font": {
           "color": "#000000"
          },
          "showarrow": false,
          "text": "0.25",
          "x": "automobiles",
          "xref": "x",
          "y": "automobiles",
          "yref": "y"
         },
         {
          "font": {
           "color": "#000000"
          },
          "showarrow": false,
          "text": "0.01",
          "x": "fashion",
          "xref": "x",
          "y": "automobiles",
          "yref": "y"
         },
         {
          "font": {
           "color": "#000000"
          },
          "showarrow": false,
          "text": "0.1",
          "x": "food",
          "xref": "x",
          "y": "automobiles",
          "yref": "y"
         },
         {
          "font": {
           "color": "#000000"
          },
          "showarrow": false,
          "text": "0.16",
          "x": "houses",
          "xref": "x",
          "y": "automobiles",
          "yref": "y"
         },
         {
          "font": {
           "color": "#000000"
          },
          "showarrow": false,
          "text": "0.16",
          "x": "technology",
          "xref": "x",
          "y": "automobiles",
          "yref": "y"
         },
         {
          "font": {
           "color": "#000000"
          },
          "showarrow": false,
          "text": "0.21",
          "x": "travel",
          "xref": "x",
          "y": "automobiles",
          "yref": "y"
         },
         {
          "font": {
           "color": "#000000"
          },
          "showarrow": false,
          "text": "0.08",
          "x": "animals",
          "xref": "x",
          "y": "art",
          "yref": "y"
         },
         {
          "font": {
           "color": "#FFFFFF"
          },
          "showarrow": false,
          "text": "0.35",
          "x": "art",
          "xref": "x",
          "y": "art",
          "yref": "y"
         },
         {
          "font": {
           "color": "#000000"
          },
          "showarrow": false,
          "text": "0.06",
          "x": "automobiles",
          "xref": "x",
          "y": "art",
          "yref": "y"
         },
         {
          "font": {
           "color": "#000000"
          },
          "showarrow": false,
          "text": "0.04",
          "x": "fashion",
          "xref": "x",
          "y": "art",
          "yref": "y"
         },
         {
          "font": {
           "color": "#000000"
          },
          "showarrow": false,
          "text": "0.06",
          "x": "food",
          "xref": "x",
          "y": "art",
          "yref": "y"
         },
         {
          "font": {
           "color": "#000000"
          },
          "showarrow": false,
          "text": "0.15",
          "x": "houses",
          "xref": "x",
          "y": "art",
          "yref": "y"
         },
         {
          "font": {
           "color": "#000000"
          },
          "showarrow": false,
          "text": "0.12",
          "x": "technology",
          "xref": "x",
          "y": "art",
          "yref": "y"
         },
         {
          "font": {
           "color": "#000000"
          },
          "showarrow": false,
          "text": "0.13",
          "x": "travel",
          "xref": "x",
          "y": "art",
          "yref": "y"
         },
         {
          "font": {
           "color": "#FFFFFF"
          },
          "showarrow": false,
          "text": "0.34",
          "x": "animals",
          "xref": "x",
          "y": "animals",
          "yref": "y"
         },
         {
          "font": {
           "color": "#000000"
          },
          "showarrow": false,
          "text": "0.12",
          "x": "art",
          "xref": "x",
          "y": "animals",
          "yref": "y"
         },
         {
          "font": {
           "color": "#000000"
          },
          "showarrow": false,
          "text": "0.07",
          "x": "automobiles",
          "xref": "x",
          "y": "animals",
          "yref": "y"
         },
         {
          "font": {
           "color": "#000000"
          },
          "showarrow": false,
          "text": "0.07",
          "x": "fashion",
          "xref": "x",
          "y": "animals",
          "yref": "y"
         },
         {
          "font": {
           "color": "#000000"
          },
          "showarrow": false,
          "text": "0.13",
          "x": "food",
          "xref": "x",
          "y": "animals",
          "yref": "y"
         },
         {
          "font": {
           "color": "#000000"
          },
          "showarrow": false,
          "text": "0.15",
          "x": "houses",
          "xref": "x",
          "y": "animals",
          "yref": "y"
         },
         {
          "font": {
           "color": "#000000"
          },
          "showarrow": false,
          "text": "0.07",
          "x": "technology",
          "xref": "x",
          "y": "animals",
          "yref": "y"
         },
         {
          "font": {
           "color": "#000000"
          },
          "showarrow": false,
          "text": "0.05",
          "x": "travel",
          "xref": "x",
          "y": "animals",
          "yref": "y"
         }
        ],
        "height": 700,
        "template": {
         "data": {
          "scatter": [
           {
            "type": "scatter"
           }
          ]
         }
        },
        "title": {
         "x": 0.47,
         "xanchor": "center",
         "y": 0.95,
         "yanchor": "top"
        },
        "width": 700,
        "xaxis": {
         "dtick": 1,
         "gridcolor": "rgb(0, 0, 0)",
         "showgrid": false,
         "side": "bottom",
         "ticks": "",
         "title": {
          "text": "predicted label"
         }
        },
        "yaxis": {
         "dtick": 1,
         "showgrid": false,
         "ticks": "",
         "ticksuffix": "  ",
         "title": {
          "text": "true label"
         }
        }
       }
      },
      "text/html": [
       "<div>\n",
       "        \n",
       "        \n",
       "            <div id=\"d2fba546-199e-4fde-8241-58f04474b1e4\" class=\"plotly-graph-div\" style=\"height:700px; width:700px;\"></div>\n",
       "            <script type=\"text/javascript\">\n",
       "                require([\"plotly\"], function(Plotly) {\n",
       "                    window.PLOTLYENV=window.PLOTLYENV || {};\n",
       "                    \n",
       "                if (document.getElementById(\"d2fba546-199e-4fde-8241-58f04474b1e4\")) {\n",
       "                    Plotly.newPlot(\n",
       "                        'd2fba546-199e-4fde-8241-58f04474b1e4',\n",
       "                        [{\"colorscale\": [[0.0, \"rgb(253, 253, 204)\"], [0.09090909090909091, \"rgb(206, 236, 179)\"], [0.18181818181818182, \"rgb(156, 219, 165)\"], [0.2727272727272727, \"rgb(111, 201, 163)\"], [0.36363636363636365, \"rgb(86, 177, 163)\"], [0.45454545454545453, \"rgb(76, 153, 160)\"], [0.5454545454545454, \"rgb(68, 130, 155)\"], [0.6363636363636364, \"rgb(62, 108, 150)\"], [0.7272727272727273, \"rgb(62, 82, 143)\"], [0.8181818181818182, \"rgb(64, 60, 115)\"], [0.9090909090909091, \"rgb(54, 43, 77)\"], [1.0, \"rgb(39, 26, 44)\"]], \"reversescale\": false, \"showscale\": false, \"type\": \"heatmap\", \"x\": [\"animals\", \"art\", \"automobiles\", \"fashion\", \"food\", \"houses\", \"technology\", \"travel\"], \"y\": [\"travel\", \"technology\", \"houses\", \"food\", \"fashion\", \"automobiles\", \"art\", \"animals\"], \"z\": [[0.02, 0.07, 0.1, 0.01, 0.03, 0.1, 0.17, 0.5], [0.05, 0.13, 0.11, 0.07, 0.08, 0.09, 0.38, 0.09], [0.09, 0.05, 0.1, 0.05, 0.15, 0.35, 0.08, 0.12], [0.13, 0.01, 0.02, 0.02, 0.64, 0.1, 0.04, 0.06], [0.1, 0.07, 0.08, 0.52, 0.06, 0.09, 0.07, 0.03], [0.04, 0.07, 0.25, 0.01, 0.1, 0.16, 0.16, 0.21], [0.08, 0.35, 0.06, 0.04, 0.06, 0.15, 0.12, 0.13], [0.34, 0.12, 0.07, 0.07, 0.13, 0.15, 0.07, 0.05]]}],\n",
       "                        {\"annotations\": [{\"font\": {\"color\": \"#000000\"}, \"showarrow\": false, \"text\": \"0.02\", \"x\": \"animals\", \"xref\": \"x\", \"y\": \"travel\", \"yref\": \"y\"}, {\"font\": {\"color\": \"#000000\"}, \"showarrow\": false, \"text\": \"0.07\", \"x\": \"art\", \"xref\": \"x\", \"y\": \"travel\", \"yref\": \"y\"}, {\"font\": {\"color\": \"#000000\"}, \"showarrow\": false, \"text\": \"0.1\", \"x\": \"automobiles\", \"xref\": \"x\", \"y\": \"travel\", \"yref\": \"y\"}, {\"font\": {\"color\": \"#000000\"}, \"showarrow\": false, \"text\": \"0.01\", \"x\": \"fashion\", \"xref\": \"x\", \"y\": \"travel\", \"yref\": \"y\"}, {\"font\": {\"color\": \"#000000\"}, \"showarrow\": false, \"text\": \"0.03\", \"x\": \"food\", \"xref\": \"x\", \"y\": \"travel\", \"yref\": \"y\"}, {\"font\": {\"color\": \"#000000\"}, \"showarrow\": false, \"text\": \"0.1\", \"x\": \"houses\", \"xref\": \"x\", \"y\": \"travel\", \"yref\": \"y\"}, {\"font\": {\"color\": \"#000000\"}, \"showarrow\": false, \"text\": \"0.17\", \"x\": \"technology\", \"xref\": \"x\", \"y\": \"travel\", \"yref\": \"y\"}, {\"font\": {\"color\": \"#FFFFFF\"}, \"showarrow\": false, \"text\": \"0.5\", \"x\": \"travel\", \"xref\": \"x\", \"y\": \"travel\", \"yref\": \"y\"}, {\"font\": {\"color\": \"#000000\"}, \"showarrow\": false, \"text\": \"0.05\", \"x\": \"animals\", \"xref\": \"x\", \"y\": \"technology\", \"yref\": \"y\"}, {\"font\": {\"color\": \"#000000\"}, \"showarrow\": false, \"text\": \"0.13\", \"x\": \"art\", \"xref\": \"x\", \"y\": \"technology\", \"yref\": \"y\"}, {\"font\": {\"color\": \"#000000\"}, \"showarrow\": false, \"text\": \"0.11\", \"x\": \"automobiles\", \"xref\": \"x\", \"y\": \"technology\", \"yref\": \"y\"}, {\"font\": {\"color\": \"#000000\"}, \"showarrow\": false, \"text\": \"0.07\", \"x\": \"fashion\", \"xref\": \"x\", \"y\": \"technology\", \"yref\": \"y\"}, {\"font\": {\"color\": \"#000000\"}, \"showarrow\": false, \"text\": \"0.08\", \"x\": \"food\", \"xref\": \"x\", \"y\": \"technology\", \"yref\": \"y\"}, {\"font\": {\"color\": \"#000000\"}, \"showarrow\": false, \"text\": \"0.09\", \"x\": \"houses\", \"xref\": \"x\", \"y\": \"technology\", \"yref\": \"y\"}, {\"font\": {\"color\": \"#FFFFFF\"}, \"showarrow\": false, \"text\": \"0.38\", \"x\": \"technology\", \"xref\": \"x\", \"y\": \"technology\", \"yref\": \"y\"}, {\"font\": {\"color\": \"#000000\"}, \"showarrow\": false, \"text\": \"0.09\", \"x\": \"travel\", \"xref\": \"x\", \"y\": \"technology\", \"yref\": \"y\"}, {\"font\": {\"color\": \"#000000\"}, \"showarrow\": false, \"text\": \"0.09\", \"x\": \"animals\", \"xref\": \"x\", \"y\": \"houses\", \"yref\": \"y\"}, {\"font\": {\"color\": \"#000000\"}, \"showarrow\": false, \"text\": \"0.05\", \"x\": \"art\", \"xref\": \"x\", \"y\": \"houses\", \"yref\": \"y\"}, {\"font\": {\"color\": \"#000000\"}, \"showarrow\": false, \"text\": \"0.1\", \"x\": \"automobiles\", \"xref\": \"x\", \"y\": \"houses\", \"yref\": \"y\"}, {\"font\": {\"color\": \"#000000\"}, \"showarrow\": false, \"text\": \"0.05\", \"x\": \"fashion\", \"xref\": \"x\", \"y\": \"houses\", \"yref\": \"y\"}, {\"font\": {\"color\": \"#000000\"}, \"showarrow\": false, \"text\": \"0.15\", \"x\": \"food\", \"xref\": \"x\", \"y\": \"houses\", \"yref\": \"y\"}, {\"font\": {\"color\": \"#FFFFFF\"}, \"showarrow\": false, \"text\": \"0.35\", \"x\": \"houses\", \"xref\": \"x\", \"y\": \"houses\", \"yref\": \"y\"}, {\"font\": {\"color\": \"#000000\"}, \"showarrow\": false, \"text\": \"0.08\", \"x\": \"technology\", \"xref\": \"x\", \"y\": \"houses\", \"yref\": \"y\"}, {\"font\": {\"color\": \"#000000\"}, \"showarrow\": false, \"text\": \"0.12\", \"x\": \"travel\", \"xref\": \"x\", \"y\": \"houses\", \"yref\": \"y\"}, {\"font\": {\"color\": \"#000000\"}, \"showarrow\": false, \"text\": \"0.13\", \"x\": \"animals\", \"xref\": \"x\", \"y\": \"food\", \"yref\": \"y\"}, {\"font\": {\"color\": \"#000000\"}, \"showarrow\": false, \"text\": \"0.01\", \"x\": \"art\", \"xref\": \"x\", \"y\": \"food\", \"yref\": \"y\"}, {\"font\": {\"color\": \"#000000\"}, \"showarrow\": false, \"text\": \"0.02\", \"x\": \"automobiles\", \"xref\": \"x\", \"y\": \"food\", \"yref\": \"y\"}, {\"font\": {\"color\": \"#000000\"}, \"showarrow\": false, \"text\": \"0.02\", \"x\": \"fashion\", \"xref\": \"x\", \"y\": \"food\", \"yref\": \"y\"}, {\"font\": {\"color\": \"#FFFFFF\"}, \"showarrow\": false, \"text\": \"0.64\", \"x\": \"food\", \"xref\": \"x\", \"y\": \"food\", \"yref\": \"y\"}, {\"font\": {\"color\": \"#000000\"}, \"showarrow\": false, \"text\": \"0.1\", \"x\": \"houses\", \"xref\": \"x\", \"y\": \"food\", \"yref\": \"y\"}, {\"font\": {\"color\": \"#000000\"}, \"showarrow\": false, \"text\": \"0.04\", \"x\": \"technology\", \"xref\": \"x\", \"y\": \"food\", \"yref\": \"y\"}, {\"font\": {\"color\": \"#000000\"}, \"showarrow\": false, \"text\": \"0.06\", \"x\": \"travel\", \"xref\": \"x\", \"y\": \"food\", \"yref\": \"y\"}, {\"font\": {\"color\": \"#000000\"}, \"showarrow\": false, \"text\": \"0.1\", \"x\": \"animals\", \"xref\": \"x\", \"y\": \"fashion\", \"yref\": \"y\"}, {\"font\": {\"color\": \"#000000\"}, \"showarrow\": false, \"text\": \"0.07\", \"x\": \"art\", \"xref\": \"x\", \"y\": \"fashion\", \"yref\": \"y\"}, {\"font\": {\"color\": \"#000000\"}, \"showarrow\": false, \"text\": \"0.08\", \"x\": \"automobiles\", \"xref\": \"x\", \"y\": \"fashion\", \"yref\": \"y\"}, {\"font\": {\"color\": \"#FFFFFF\"}, \"showarrow\": false, \"text\": \"0.52\", \"x\": \"fashion\", \"xref\": \"x\", \"y\": \"fashion\", \"yref\": \"y\"}, {\"font\": {\"color\": \"#000000\"}, \"showarrow\": false, \"text\": \"0.06\", \"x\": \"food\", \"xref\": \"x\", \"y\": \"fashion\", \"yref\": \"y\"}, {\"font\": {\"color\": \"#000000\"}, \"showarrow\": false, \"text\": \"0.09\", \"x\": \"houses\", \"xref\": \"x\", \"y\": \"fashion\", \"yref\": \"y\"}, {\"font\": {\"color\": \"#000000\"}, \"showarrow\": false, \"text\": \"0.07\", \"x\": \"technology\", \"xref\": \"x\", \"y\": \"fashion\", \"yref\": \"y\"}, {\"font\": {\"color\": \"#000000\"}, \"showarrow\": false, \"text\": \"0.03\", \"x\": \"travel\", \"xref\": \"x\", \"y\": \"fashion\", \"yref\": \"y\"}, {\"font\": {\"color\": \"#000000\"}, \"showarrow\": false, \"text\": \"0.04\", \"x\": \"animals\", \"xref\": \"x\", \"y\": \"automobiles\", \"yref\": \"y\"}, {\"font\": {\"color\": \"#000000\"}, \"showarrow\": false, \"text\": \"0.07\", \"x\": \"art\", \"xref\": \"x\", \"y\": \"automobiles\", \"yref\": \"y\"}, {\"font\": {\"color\": \"#000000\"}, \"showarrow\": false, \"text\": \"0.25\", \"x\": \"automobiles\", \"xref\": \"x\", \"y\": \"automobiles\", \"yref\": \"y\"}, {\"font\": {\"color\": \"#000000\"}, \"showarrow\": false, \"text\": \"0.01\", \"x\": \"fashion\", \"xref\": \"x\", \"y\": \"automobiles\", \"yref\": \"y\"}, {\"font\": {\"color\": \"#000000\"}, \"showarrow\": false, \"text\": \"0.1\", \"x\": \"food\", \"xref\": \"x\", \"y\": \"automobiles\", \"yref\": \"y\"}, {\"font\": {\"color\": \"#000000\"}, \"showarrow\": false, \"text\": \"0.16\", \"x\": \"houses\", \"xref\": \"x\", \"y\": \"automobiles\", \"yref\": \"y\"}, {\"font\": {\"color\": \"#000000\"}, \"showarrow\": false, \"text\": \"0.16\", \"x\": \"technology\", \"xref\": \"x\", \"y\": \"automobiles\", \"yref\": \"y\"}, {\"font\": {\"color\": \"#000000\"}, \"showarrow\": false, \"text\": \"0.21\", \"x\": \"travel\", \"xref\": \"x\", \"y\": \"automobiles\", \"yref\": \"y\"}, {\"font\": {\"color\": \"#000000\"}, \"showarrow\": false, \"text\": \"0.08\", \"x\": \"animals\", \"xref\": \"x\", \"y\": \"art\", \"yref\": \"y\"}, {\"font\": {\"color\": \"#FFFFFF\"}, \"showarrow\": false, \"text\": \"0.35\", \"x\": \"art\", \"xref\": \"x\", \"y\": \"art\", \"yref\": \"y\"}, {\"font\": {\"color\": \"#000000\"}, \"showarrow\": false, \"text\": \"0.06\", \"x\": \"automobiles\", \"xref\": \"x\", \"y\": \"art\", \"yref\": \"y\"}, {\"font\": {\"color\": \"#000000\"}, \"showarrow\": false, \"text\": \"0.04\", \"x\": \"fashion\", \"xref\": \"x\", \"y\": \"art\", \"yref\": \"y\"}, {\"font\": {\"color\": \"#000000\"}, \"showarrow\": false, \"text\": \"0.06\", \"x\": \"food\", \"xref\": \"x\", \"y\": \"art\", \"yref\": \"y\"}, {\"font\": {\"color\": \"#000000\"}, \"showarrow\": false, \"text\": \"0.15\", \"x\": \"houses\", \"xref\": \"x\", \"y\": \"art\", \"yref\": \"y\"}, {\"font\": {\"color\": \"#000000\"}, \"showarrow\": false, \"text\": \"0.12\", \"x\": \"technology\", \"xref\": \"x\", \"y\": \"art\", \"yref\": \"y\"}, {\"font\": {\"color\": \"#000000\"}, \"showarrow\": false, \"text\": \"0.13\", \"x\": \"travel\", \"xref\": \"x\", \"y\": \"art\", \"yref\": \"y\"}, {\"font\": {\"color\": \"#FFFFFF\"}, \"showarrow\": false, \"text\": \"0.34\", \"x\": \"animals\", \"xref\": \"x\", \"y\": \"animals\", \"yref\": \"y\"}, {\"font\": {\"color\": \"#000000\"}, \"showarrow\": false, \"text\": \"0.12\", \"x\": \"art\", \"xref\": \"x\", \"y\": \"animals\", \"yref\": \"y\"}, {\"font\": {\"color\": \"#000000\"}, \"showarrow\": false, \"text\": \"0.07\", \"x\": \"automobiles\", \"xref\": \"x\", \"y\": \"animals\", \"yref\": \"y\"}, {\"font\": {\"color\": \"#000000\"}, \"showarrow\": false, \"text\": \"0.07\", \"x\": \"fashion\", \"xref\": \"x\", \"y\": \"animals\", \"yref\": \"y\"}, {\"font\": {\"color\": \"#000000\"}, \"showarrow\": false, \"text\": \"0.13\", \"x\": \"food\", \"xref\": \"x\", \"y\": \"animals\", \"yref\": \"y\"}, {\"font\": {\"color\": \"#000000\"}, \"showarrow\": false, \"text\": \"0.15\", \"x\": \"houses\", \"xref\": \"x\", \"y\": \"animals\", \"yref\": \"y\"}, {\"font\": {\"color\": \"#000000\"}, \"showarrow\": false, \"text\": \"0.07\", \"x\": \"technology\", \"xref\": \"x\", \"y\": \"animals\", \"yref\": \"y\"}, {\"font\": {\"color\": \"#000000\"}, \"showarrow\": false, \"text\": \"0.05\", \"x\": \"travel\", \"xref\": \"x\", \"y\": \"animals\", \"yref\": \"y\"}], \"height\": 700, \"template\": {\"data\": {\"scatter\": [{\"type\": \"scatter\"}]}}, \"title\": {\"x\": 0.47, \"xanchor\": \"center\", \"y\": 0.95, \"yanchor\": \"top\"}, \"width\": 700, \"xaxis\": {\"dtick\": 1, \"gridcolor\": \"rgb(0, 0, 0)\", \"showgrid\": false, \"side\": \"bottom\", \"ticks\": \"\", \"title\": {\"text\": \"predicted label\"}}, \"yaxis\": {\"dtick\": 1, \"showgrid\": false, \"ticks\": \"\", \"ticksuffix\": \"  \", \"title\": {\"text\": \"true label\"}}},\n",
       "                        {\"responsive\": true}\n",
       "                    ).then(function(){\n",
       "                            \n",
       "var gd = document.getElementById('d2fba546-199e-4fde-8241-58f04474b1e4');\n",
       "var x = new MutationObserver(function (mutations, observer) {{\n",
       "        var display = window.getComputedStyle(gd).display;\n",
       "        if (!display || display === 'none') {{\n",
       "            console.log([gd, 'removed!']);\n",
       "            Plotly.purge(gd);\n",
       "            observer.disconnect();\n",
       "        }}\n",
       "}});\n",
       "\n",
       "// Listen for the removal of the full notebook cells\n",
       "var notebookContainer = gd.closest('#notebook-container');\n",
       "if (notebookContainer) {{\n",
       "    x.observe(notebookContainer, {childList: true});\n",
       "}}\n",
       "\n",
       "// Listen for the clearing of the current output cell\n",
       "var outputEl = gd.closest('.output');\n",
       "if (outputEl) {{\n",
       "    x.observe(outputEl, {childList: true});\n",
       "}}\n",
       "\n",
       "                        })\n",
       "                };\n",
       "                });\n",
       "            </script>\n",
       "        </div>"
      ]
     },
     "metadata": {},
     "output_type": "display_data"
    }
   ],
   "source": [
    "fig.show()"
   ]
  },
  {
   "cell_type": "code",
   "execution_count": null,
   "metadata": {},
   "outputs": [],
   "source": []
  }
 ],
 "metadata": {
  "kernelspec": {
   "display_name": "Python 3",
   "language": "python",
   "name": "python3"
  },
  "language_info": {
   "codemirror_mode": {
    "name": "ipython",
    "version": 3
   },
   "file_extension": ".py",
   "mimetype": "text/x-python",
   "name": "python",
   "nbconvert_exporter": "python",
   "pygments_lexer": "ipython3",
   "version": "3.7.4"
  }
 },
 "nbformat": 4,
 "nbformat_minor": 2
}
