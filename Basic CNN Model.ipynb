{
  "nbformat": 4,
  "nbformat_minor": 0,
  "metadata": {
    "colab": {
      "name": "Basic CNN Model.ipynb",
      "provenance": [],
      "collapsed_sections": []
    },
    "kernelspec": {
      "name": "python3",
      "display_name": "Python 3"
    },
    "accelerator": "GPU"
  },
  "cells": [
    {
      "cell_type": "code",
      "metadata": {
        "id": "ByzGo4WAcsdx",
        "colab_type": "code",
        "colab": {}
      },
      "source": [
        "!pip install -q tensorflow-gpu==2.1.0"
      ],
      "execution_count": 0,
      "outputs": []
    },
    {
      "cell_type": "code",
      "metadata": {
        "id": "Gwut0In-clz6",
        "colab_type": "code",
        "outputId": "b6a96afe-b268-4898-c23a-4d547990c54f",
        "colab": {
          "base_uri": "https://localhost:8080/",
          "height": 62
        }
      },
      "source": [
        "import matplotlib\n",
        "import tensorflow as tf\n",
        "import numpy as np\n",
        "import matplotlib.pyplot as plt"
      ],
      "execution_count": 1,
      "outputs": [
        {
          "output_type": "display_data",
          "data": {
            "text/html": [
              "<p style=\"color: red;\">\n",
              "The default version of TensorFlow in Colab will switch to TensorFlow 2.x on the 27th of March, 2020.<br>\n",
              "We recommend you <a href=\"https://www.tensorflow.org/guide/migrate\" target=\"_blank\">upgrade</a> now\n",
              "or ensure your notebook will continue to use TensorFlow 1.x via the <code>%tensorflow_version 1.x</code> magic:\n",
              "<a href=\"https://colab.research.google.com/notebooks/tensorflow_version.ipynb\" target=\"_blank\">more info</a>.</p>\n"
            ],
            "text/plain": [
              "<IPython.core.display.HTML object>"
            ]
          },
          "metadata": {
            "tags": []
          }
        }
      ]
    },
    {
      "cell_type": "code",
      "metadata": {
        "id": "adVRRDAWdfmE",
        "colab_type": "code",
        "outputId": "a5938ab1-32f3-409c-bb88-9bae935f6969",
        "colab": {
          "base_uri": "https://localhost:8080/",
          "height": 34
        }
      },
      "source": [
        "tf.__version__"
      ],
      "execution_count": 2,
      "outputs": [
        {
          "output_type": "execute_result",
          "data": {
            "text/plain": [
              "'1.15.2'"
            ]
          },
          "metadata": {
            "tags": []
          },
          "execution_count": 2
        }
      ]
    },
    {
      "cell_type": "code",
      "metadata": {
        "id": "yzv3AR6_eLC6",
        "colab_type": "code",
        "colab": {
          "base_uri": "https://localhost:8080/",
          "height": 34
        },
        "outputId": "9fa0986d-1001-4fd2-c6f5-344cba79b33f"
      },
      "source": [
        "import tensorflow as tf\n",
        "print(\"Num GPUs Available: \", len(tf.config.experimental.list_physical_devices('GPU')))"
      ],
      "execution_count": 3,
      "outputs": [
        {
          "output_type": "stream",
          "text": [
            "Num GPUs Available:  1\n"
          ],
          "name": "stdout"
        }
      ]
    },
    {
      "cell_type": "code",
      "metadata": {
        "id": "EW-M_-tin7In",
        "colab_type": "code",
        "colab": {
          "base_uri": "https://localhost:8080/",
          "height": 34
        },
        "outputId": "6f5aec07-58ae-40e8-e828-0e01008c725e"
      },
      "source": [
        "import os\n",
        "import numpy as np\n",
        "import keras\n",
        "import pandas as pd\n",
        "import cv2\n",
        "from keras.preprocessing import image\n",
        "from keras.utils import to_categorical\n",
        "from sklearn.preprocessing import LabelEncoder\n",
        "from keras.models import Sequential\n",
        "from keras.layers import Dense, Conv2D, BatchNormalization, MaxPooling2D, Dropout, Flatten\n",
        "from google.colab import drive"
      ],
      "execution_count": 4,
      "outputs": [
        {
          "output_type": "stream",
          "text": [
            "Using TensorFlow backend.\n"
          ],
          "name": "stderr"
        }
      ]
    },
    {
      "cell_type": "code",
      "metadata": {
        "id": "4DSekDwJoB1w",
        "colab_type": "code",
        "colab": {
          "base_uri": "https://localhost:8080/",
          "height": 34
        },
        "outputId": "ab4cb878-9f58-40a7-b8bc-0a872a3572fe"
      },
      "source": [
        "drive.mount('/content/gdrive/')"
      ],
      "execution_count": 5,
      "outputs": [
        {
          "output_type": "stream",
          "text": [
            "Mounted at /content/gdrive/\n"
          ],
          "name": "stdout"
        }
      ]
    },
    {
      "cell_type": "code",
      "metadata": {
        "id": "9vNxWUuqoK67",
        "colab_type": "code",
        "colab": {
          "base_uri": "https://localhost:8080/",
          "height": 34
        },
        "outputId": "5b9850ae-978c-4f3a-a106-1c36a14e7a38"
      },
      "source": [
        "!ls /content/gdrive/My\\ Drive/dataset/training_set/"
      ],
      "execution_count": 6,
      "outputs": [
        {
          "output_type": "stream",
          "text": [
            "animals  art  automobiles  fashion  food  houses  technology  travel\n"
          ],
          "name": "stdout"
        }
      ]
    },
    {
      "cell_type": "code",
      "metadata": {
        "id": "urPc8Ubjo0DW",
        "colab_type": "code",
        "colab": {
          "base_uri": "https://localhost:8080/",
          "height": 1000
        },
        "outputId": "75a97921-61b0-4acd-c182-d1e33642e27a"
      },
      "source": [
        "X_train, y_train = [], []\n",
        "count = 0\n",
        "for i in os.listdir('/content/gdrive/My Drive/dataset/training_set'):\n",
        "    true_class = i\n",
        "    for j in os.listdir('/content/gdrive/My Drive/dataset/training_set/' + i):\n",
        "        if count%100 == 0:\n",
        "          print(count)\n",
        "        img = image.load_img('/content/gdrive/My Drive/dataset/training_set/' + i + '/' + j, target_size = (56, 56))\n",
        "        img = image.img_to_array(img)\n",
        "        X_train.append(img)\n",
        "        y_train.append(i)\n",
        "        count += 1"
      ],
      "execution_count": 7,
      "outputs": [
        {
          "output_type": "stream",
          "text": [
            "0\n",
            "100\n",
            "200\n",
            "300\n",
            "400\n",
            "500\n",
            "600\n",
            "700\n",
            "800\n",
            "900\n",
            "1000\n",
            "1100\n",
            "1200\n",
            "1300\n",
            "1400\n",
            "1500\n",
            "1600\n",
            "1700\n",
            "1800\n",
            "1900\n",
            "2000\n",
            "2100\n",
            "2200\n",
            "2300\n",
            "2400\n",
            "2500\n",
            "2600\n",
            "2700\n",
            "2800\n",
            "2900\n",
            "3000\n",
            "3100\n",
            "3200\n",
            "3300\n",
            "3400\n",
            "3500\n",
            "3600\n",
            "3700\n",
            "3800\n",
            "3900\n",
            "4000\n",
            "4100\n",
            "4200\n",
            "4300\n",
            "4400\n",
            "4500\n",
            "4600\n",
            "4700\n",
            "4800\n",
            "4900\n",
            "5000\n",
            "5100\n",
            "5200\n",
            "5300\n",
            "5400\n",
            "5500\n",
            "5600\n",
            "5700\n",
            "5800\n",
            "5900\n",
            "6000\n",
            "6100\n",
            "6200\n",
            "6300\n",
            "6400\n",
            "6500\n",
            "6600\n"
          ],
          "name": "stdout"
        }
      ]
    },
    {
      "cell_type": "code",
      "metadata": {
        "id": "FaQEGfRSpHXB",
        "colab_type": "code",
        "colab": {
          "base_uri": "https://localhost:8080/",
          "height": 151
        },
        "outputId": "1b0e3d7e-7540-48a4-a008-87266bef5f8a"
      },
      "source": [
        "X_test, y_test = [], []\n",
        "count = 0\n",
        "for i in os.listdir('/content/gdrive/My Drive/dataset/test_set'):\n",
        "    true_class = i\n",
        "    for j in os.listdir('/content/gdrive/My Drive/dataset/test_set/' + i):\n",
        "        if count%100 == 0:\n",
        "          print(count)\n",
        "        img = image.load_img('/content/gdrive/My Drive/dataset/test_set/' + i + '/' + j, \n",
        "                                    target_size = (56, 56))\n",
        "        img = image.img_to_array(img)\n",
        "        X_test.append(img)\n",
        "        y_test.append(i)\n",
        "        count += 1"
      ],
      "execution_count": 9,
      "outputs": [
        {
          "output_type": "stream",
          "text": [
            "0\n",
            "100\n",
            "200\n",
            "300\n",
            "400\n",
            "500\n",
            "600\n",
            "700\n"
          ],
          "name": "stdout"
        }
      ]
    },
    {
      "cell_type": "code",
      "metadata": {
        "id": "d7_TFR8Aq7C7",
        "colab_type": "code",
        "colab": {}
      },
      "source": [
        "X_train = np.array(X_train)\n",
        "y_train = np.array(y_train)\n",
        "X_test = np.array(X_test)\n",
        "y_test = np.array(y_test)"
      ],
      "execution_count": 0,
      "outputs": []
    },
    {
      "cell_type": "code",
      "metadata": {
        "id": "Hoq3KGxrq9Ap",
        "colab_type": "code",
        "colab": {
          "base_uri": "https://localhost:8080/",
          "height": 84
        },
        "outputId": "e965be01-7c7c-4bb5-bb1e-b93b136754a2"
      },
      "source": [
        "print(X_train.shape)\n",
        "print(y_train.shape)\n",
        "print(X_test.shape)\n",
        "print(y_test.shape)"
      ],
      "execution_count": 11,
      "outputs": [
        {
          "output_type": "stream",
          "text": [
            "(6696, 56, 56, 3)\n",
            "(6696,)\n",
            "(800, 56, 56, 3)\n",
            "(800,)\n"
          ],
          "name": "stdout"
        }
      ]
    },
    {
      "cell_type": "code",
      "metadata": {
        "id": "WIkcd_FRq9_2",
        "colab_type": "code",
        "colab": {}
      },
      "source": [
        "X_train = X_train.astype('float32') \n",
        "X_test  = X_test.astype('float32')\n",
        "X_train /= 255\n",
        "X_test  /= 255"
      ],
      "execution_count": 0,
      "outputs": []
    },
    {
      "cell_type": "code",
      "metadata": {
        "id": "Ddoz0NFwq_sp",
        "colab_type": "code",
        "colab": {}
      },
      "source": [
        "le = LabelEncoder()\n",
        "le.fit(y_train)\n",
        "y_train = le.transform(y_train)\n",
        "y_test = le.transform(y_test)"
      ],
      "execution_count": 0,
      "outputs": []
    },
    {
      "cell_type": "code",
      "metadata": {
        "id": "MGktblvRrAwa",
        "colab_type": "code",
        "colab": {}
      },
      "source": [
        "y_train = to_categorical(y_train)\n",
        "y_test = to_categorical(y_test)"
      ],
      "execution_count": 0,
      "outputs": []
    },
    {
      "cell_type": "code",
      "metadata": {
        "id": "phg-Dn91rB8X",
        "colab_type": "code",
        "colab": {
          "base_uri": "https://localhost:8080/",
          "height": 722
        },
        "outputId": "ec851f26-113a-4f0c-8e9a-1efddb649bb9"
      },
      "source": [
        "classifier = Sequential()\n",
        "\n",
        "#1st set of Convolution and Pooling layers\n",
        "classifier.add(Conv2D(32, (3, 3), padding = \"same\", input_shape = (56, 56, 3), activation = 'relu'))\n",
        "classifier.add(BatchNormalization(axis = 1))\n",
        "\n",
        "classifier.add(Conv2D(32, (3, 3), padding = \"same\", activation = 'relu'))\n",
        "classifier.add(BatchNormalization(axis = 1))\n",
        "\n",
        "classifier.add(MaxPooling2D(pool_size = (2, 2)))\n",
        "classifier.add(Dropout(0.25))\n",
        "\n",
        "#2nd set of Convolution and Pooling layers\n",
        "classifier.add(Conv2D(64, (3, 3), padding = \"same\", activation = 'relu'))\n",
        "classifier.add(BatchNormalization(axis = 1))\n",
        "\n",
        "classifier.add(Conv2D(64, (3, 3), padding = \"same\", activation = 'relu'))\n",
        "classifier.add(BatchNormalization(axis = 1))\n",
        "\n",
        "classifier.add(MaxPooling2D(pool_size = (2, 2)))\n",
        "classifier.add(Dropout(0.25))\n",
        "\n",
        "#Fully Connected Layers\n",
        "classifier.add(Flatten())\n",
        "classifier.add(Dense(512, activation = 'relu'))\n",
        "classifier.add(BatchNormalization())\n",
        "classifier.add(Dropout(0.5))\n",
        "\n",
        "# Softmax classifier\n",
        "classifier.add(Dense(8, activation = 'softmax'))\n",
        "\n",
        "classifier.summary()\n",
        "\n",
        "#Compiling our Basic CNN Model\n",
        "init_lr = 0.01\n",
        "batch_size = 16\n",
        "epochs = 15\n",
        "\n",
        "classifier.compile(loss = \"categorical_crossentropy\", optimizer = 'adam', metrics = [\"accuracy\"])"
      ],
      "execution_count": 19,
      "outputs": [
        {
          "output_type": "stream",
          "text": [
            "Model: \"sequential_3\"\n",
            "_________________________________________________________________\n",
            "Layer (type)                 Output Shape              Param #   \n",
            "=================================================================\n",
            "conv2d_9 (Conv2D)            (None, 56, 56, 32)        896       \n",
            "_________________________________________________________________\n",
            "batch_normalization_11 (Batc (None, 56, 56, 32)        224       \n",
            "_________________________________________________________________\n",
            "conv2d_10 (Conv2D)           (None, 56, 56, 32)        9248      \n",
            "_________________________________________________________________\n",
            "batch_normalization_12 (Batc (None, 56, 56, 32)        224       \n",
            "_________________________________________________________________\n",
            "max_pooling2d_5 (MaxPooling2 (None, 28, 28, 32)        0         \n",
            "_________________________________________________________________\n",
            "dropout_7 (Dropout)          (None, 28, 28, 32)        0         \n",
            "_________________________________________________________________\n",
            "conv2d_11 (Conv2D)           (None, 28, 28, 64)        18496     \n",
            "_________________________________________________________________\n",
            "batch_normalization_13 (Batc (None, 28, 28, 64)        112       \n",
            "_________________________________________________________________\n",
            "conv2d_12 (Conv2D)           (None, 28, 28, 64)        36928     \n",
            "_________________________________________________________________\n",
            "batch_normalization_14 (Batc (None, 28, 28, 64)        112       \n",
            "_________________________________________________________________\n",
            "max_pooling2d_6 (MaxPooling2 (None, 14, 14, 64)        0         \n",
            "_________________________________________________________________\n",
            "dropout_8 (Dropout)          (None, 14, 14, 64)        0         \n",
            "_________________________________________________________________\n",
            "flatten_3 (Flatten)          (None, 12544)             0         \n",
            "_________________________________________________________________\n",
            "dense_5 (Dense)              (None, 512)               6423040   \n",
            "_________________________________________________________________\n",
            "batch_normalization_15 (Batc (None, 512)               2048      \n",
            "_________________________________________________________________\n",
            "dropout_9 (Dropout)          (None, 512)               0         \n",
            "_________________________________________________________________\n",
            "dense_6 (Dense)              (None, 8)                 4104      \n",
            "=================================================================\n",
            "Total params: 6,495,432\n",
            "Trainable params: 6,494,072\n",
            "Non-trainable params: 1,360\n",
            "_________________________________________________________________\n"
          ],
          "name": "stdout"
        }
      ]
    },
    {
      "cell_type": "code",
      "metadata": {
        "id": "0nSLJ-L4rFQN",
        "colab_type": "code",
        "colab": {
          "base_uri": "https://localhost:8080/",
          "height": 538
        },
        "outputId": "b95dcfc1-a564-48d8-c6b4-f819c2469be9"
      },
      "source": [
        "#Fitting our Basic CNN on the Data\n",
        "hist = classifier.fit(X_train, y_train, validation_data = (X_test, y_test), epochs = epochs, batch_size = batch_size)"
      ],
      "execution_count": 24,
      "outputs": [
        {
          "output_type": "stream",
          "text": [
            "Train on 6696 samples, validate on 800 samples\n",
            "Epoch 1/15\n",
            "6696/6696 [==============================] - 5s 792us/step - loss: 1.0388 - acc: 0.6507 - val_loss: 3.3132 - val_acc: 0.3337\n",
            "Epoch 2/15\n",
            "6696/6696 [==============================] - 5s 785us/step - loss: 1.0455 - acc: 0.6374 - val_loss: 1.1630 - val_acc: 0.6338\n",
            "Epoch 3/15\n",
            "6696/6696 [==============================] - 5s 767us/step - loss: 0.9240 - acc: 0.6840 - val_loss: 1.2461 - val_acc: 0.6088\n",
            "Epoch 4/15\n",
            "6696/6696 [==============================] - 5s 768us/step - loss: 0.8362 - acc: 0.7080 - val_loss: 1.2281 - val_acc: 0.6388\n",
            "Epoch 5/15\n",
            "6696/6696 [==============================] - 5s 788us/step - loss: 0.8212 - acc: 0.7173 - val_loss: 1.2820 - val_acc: 0.5900\n",
            "Epoch 6/15\n",
            "6696/6696 [==============================] - 5s 779us/step - loss: 0.8886 - acc: 0.6959 - val_loss: 1.1753 - val_acc: 0.6400\n",
            "Epoch 7/15\n",
            "6696/6696 [==============================] - 5s 784us/step - loss: 0.7448 - acc: 0.7452 - val_loss: 1.4875 - val_acc: 0.5787\n",
            "Epoch 8/15\n",
            "6696/6696 [==============================] - 5s 787us/step - loss: 0.7036 - acc: 0.7510 - val_loss: 1.0093 - val_acc: 0.6887\n",
            "Epoch 9/15\n",
            "6696/6696 [==============================] - 5s 785us/step - loss: 0.6174 - acc: 0.7861 - val_loss: 1.0902 - val_acc: 0.6637\n",
            "Epoch 10/15\n",
            "6696/6696 [==============================] - 5s 770us/step - loss: 0.6183 - acc: 0.7860 - val_loss: 1.1873 - val_acc: 0.6512\n",
            "Epoch 11/15\n",
            "6696/6696 [==============================] - 5s 803us/step - loss: 0.7094 - acc: 0.7557 - val_loss: 1.0367 - val_acc: 0.6687\n",
            "Epoch 12/15\n",
            "6696/6696 [==============================] - 5s 770us/step - loss: 0.6271 - acc: 0.7818 - val_loss: 1.2394 - val_acc: 0.6388\n",
            "Epoch 13/15\n",
            "6696/6696 [==============================] - 5s 778us/step - loss: 0.5604 - acc: 0.8015 - val_loss: 1.0592 - val_acc: 0.6800\n",
            "Epoch 14/15\n",
            "6696/6696 [==============================] - 5s 798us/step - loss: 0.5656 - acc: 0.8008 - val_loss: 4.6133 - val_acc: 0.3513\n",
            "Epoch 15/15\n",
            "6696/6696 [==============================] - 5s 800us/step - loss: 0.5547 - acc: 0.8100 - val_loss: 1.1333 - val_acc: 0.6725\n"
          ],
          "name": "stdout"
        }
      ]
    },
    {
      "cell_type": "code",
      "metadata": {
        "id": "i6w-fbJE3Ub2",
        "colab_type": "code",
        "colab": {
          "base_uri": "https://localhost:8080/",
          "height": 517
        },
        "outputId": "1d00158c-fdb7-4e55-c032-e828370f636c"
      },
      "source": [
        "plt.style.use(\"ggplot\")\n",
        "plt.figure(figsize = (12, 8))\n",
        "plt.plot(np.arange(0, epochs), hist.history[\"loss\"], label = \"train_loss\")\n",
        "plt.plot(np.arange(0, epochs), hist.history[\"val_loss\"], label = \"val_loss\")\n",
        "plt.plot(np.arange(0, epochs), hist.history[\"acc\"], label = \"train_acc\")\n",
        "plt.plot(np.arange(0, epochs), hist.history[\"val_acc\"], label = \"val_acc\")\n",
        "plt.title(\"Training Loss and Accuracy on Dataset\")\n",
        "plt.xlabel(\"Epoch #\")\n",
        "plt.ylabel(\"Loss/Accuracy\")\n",
        "plt.legend(loc = \"lower left\")\n",
        "plt.savefig(\"basic_cnn.png\")"
      ],
      "execution_count": 26,
      "outputs": [
        {
          "output_type": "display_data",
          "data": {
            "image/png": "[encoded data removed]",
            "text/plain": [
              "<Figure size 864x576 with 1 Axes>"
            ]
          },
          "metadata": {
            "tags": []
          }
        }
      ]
    },
    {
      "cell_type": "code",
      "metadata": {
        "id": "jzlK0Y7l38Ck",
        "colab_type": "code",
        "colab": {}
      },
      "source": [
        ""
      ],
      "execution_count": 0,
      "outputs": []
    }
  ]
}