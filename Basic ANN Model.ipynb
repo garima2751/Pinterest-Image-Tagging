{
 "cells": [
  {
   "cell_type": "code",
   "execution_count": 17,
   "metadata": {},
   "outputs": [],
   "source": [
    "import os\n",
    "import numpy as np\n",
    "import keras\n",
    "import pandas as pd\n",
    "import cv2\n",
    "from keras.preprocessing import image\n",
    "from keras.utils import to_categorical\n",
    "from sklearn.preprocessing import LabelEncoder\n",
    "from keras.models import Sequential\n",
    "from keras.layers import Dense\n",
    "import matplotlib.pyplot as plt"
   ]
  },
  {
   "cell_type": "markdown",
   "metadata": {},
   "source": [
    "### Loading & Transforming our Training Data to a Numpy Array"
   ]
  },
  {
   "cell_type": "code",
   "execution_count": 3,
   "metadata": {},
   "outputs": [],
   "source": [
    "X_train, y_train = [], []\n",
    "for i in os.listdir('D:/Ryerson University/Courses/DS - 8013 Deep Learning/Project/bin/dataset/training_set'):\n",
    "    true_class = i\n",
    "    for j in os.listdir('D:/Ryerson University/Courses/DS - 8013 Deep Learning/Project/bin/dataset/training_set/' + i):\n",
    "        img = image.load_img('D:/Ryerson University/Courses/DS - 8013 Deep Learning/Project/bin/dataset/training_set/' + i + '/' + j, \n",
    "                                    target_size = (56, 56))\n",
    "        img = image.img_to_array(img)\n",
    "        X_train.append(img)\n",
    "        y_train.append(i)"
   ]
  },
  {
   "cell_type": "markdown",
   "metadata": {},
   "source": [
    "### Loading & Transforming our Test Data to a Numpy Array"
   ]
  },
  {
   "cell_type": "code",
   "execution_count": 4,
   "metadata": {},
   "outputs": [],
   "source": [
    "X_test, y_test = [], []\n",
    "for i in os.listdir('D:/Ryerson University/Courses/DS - 8013 Deep Learning/Project/bin/dataset/test_set'):\n",
    "    true_class = i\n",
    "    for j in os.listdir('D:/Ryerson University/Courses/DS - 8013 Deep Learning/Project/bin/dataset/test_set/' + i):\n",
    "        img = image.load_img('D:/Ryerson University/Courses/DS - 8013 Deep Learning/Project/bin/dataset/test_set/' + i + '/' + j, \n",
    "                                    target_size = (56, 56))\n",
    "        img = image.img_to_array(img)\n",
    "        X_test.append(img)\n",
    "        y_test.append(i)"
   ]
  },
  {
   "cell_type": "code",
   "execution_count": 5,
   "metadata": {},
   "outputs": [],
   "source": [
    "X_train = np.array(X_train)\n",
    "y_train = np.array(y_train)\n",
    "X_test = np.array(X_test)\n",
    "y_test = np.array(y_test)"
   ]
  },
  {
   "cell_type": "code",
   "execution_count": 6,
   "metadata": {},
   "outputs": [
    {
     "name": "stdout",
     "output_type": "stream",
     "text": [
      "(6696, 56, 56, 3)\n",
      "(6696,)\n",
      "(800, 56, 56, 3)\n",
      "(800,)\n"
     ]
    }
   ],
   "source": [
    "print(X_train.shape)\n",
    "print(y_train.shape)\n",
    "print(X_test.shape)\n",
    "print(y_test.shape)"
   ]
  },
  {
   "cell_type": "markdown",
   "metadata": {},
   "source": [
    "### Reshaping our Data to fit into the Fully Connected Layers"
   ]
  },
  {
   "cell_type": "code",
   "execution_count": 7,
   "metadata": {},
   "outputs": [],
   "source": [
    "X_train = X_train.reshape(X_train.shape[0], X_train.shape[1] * X_train.shape[2] * 3)\n",
    "X_test = X_test.reshape(X_test.shape[0], X_test.shape[1] * X_test.shape[2] * 3)"
   ]
  },
  {
   "cell_type": "markdown",
   "metadata": {},
   "source": [
    "### Normalizing our Data"
   ]
  },
  {
   "cell_type": "code",
   "execution_count": 8,
   "metadata": {},
   "outputs": [],
   "source": [
    "X_train = X_train.astype('float32') \n",
    "X_test  = X_test.astype('float32')\n",
    "X_train /= 255\n",
    "X_test  /= 255"
   ]
  },
  {
   "cell_type": "markdown",
   "metadata": {},
   "source": [
    "### One Hot Encoding Our Labels "
   ]
  },
  {
   "cell_type": "code",
   "execution_count": 9,
   "metadata": {},
   "outputs": [],
   "source": [
    "le = LabelEncoder()\n",
    "le.fit(y_train)\n",
    "y_train = le.transform(y_train)\n",
    "y_test = le.transform(y_test)"
   ]
  },
  {
   "cell_type": "code",
   "execution_count": 20,
   "metadata": {},
   "outputs": [],
   "source": [
    "y_train = to_categorical(y_train)\n",
    "y_test = to_categorical(y_test)"
   ]
  },
  {
   "cell_type": "markdown",
   "metadata": {},
   "source": [
    "### Defining our ANN Model"
   ]
  },
  {
   "cell_type": "code",
   "execution_count": 14,
   "metadata": {},
   "outputs": [
    {
     "name": "stdout",
     "output_type": "stream",
     "text": [
      "Model: \"sequential_2\"\n",
      "_________________________________________________________________\n",
      "Layer (type)                 Output Shape              Param #   \n",
      "=================================================================\n",
      "dense_6 (Dense)              (None, 3136)              29506624  \n",
      "_________________________________________________________________\n",
      "dense_7 (Dense)              (None, 1024)              3212288   \n",
      "_________________________________________________________________\n",
      "dense_8 (Dense)              (None, 512)               524800    \n",
      "_________________________________________________________________\n",
      "dense_9 (Dense)              (None, 128)               65664     \n",
      "_________________________________________________________________\n",
      "dense_10 (Dense)             (None, 8)                 1032      \n",
      "=================================================================\n",
      "Total params: 33,310,408\n",
      "Trainable params: 33,310,408\n",
      "Non-trainable params: 0\n",
      "_________________________________________________________________\n"
     ]
    }
   ],
   "source": [
    "model = Sequential()\n",
    "model.add(Dense(3136, input_dim = 9408, activation = 'relu'))\n",
    "model.add(Dense(1024, activation = 'relu'))\n",
    "model.add(Dense(512, activation = 'relu'))\n",
    "model.add(Dense(128, activation = 'relu'))\n",
    "model.add(Dense(8, activation = 'softmax'))\n",
    "\n",
    "model.summary()\n",
    "\n",
    "model.compile(loss = \"categorical_crossentropy\", optimizer = 'adam', metrics = [\"accuracy\"])"
   ]
  },
  {
   "cell_type": "code",
   "execution_count": 15,
   "metadata": {},
   "outputs": [
    {
     "name": "stdout",
     "output_type": "stream",
     "text": [
      "Train on 6696 samples, validate on 800 samples\n",
      "Epoch 1/15\n",
      "6696/6696 [==============================] - 150s 22ms/step - loss: 2.3932 - accuracy: 0.2445 - val_loss: 1.8023 - val_accuracy: 0.2862\n",
      "Epoch 2/15\n",
      "6696/6696 [==============================] - 149s 22ms/step - loss: 1.7726 - accuracy: 0.3218 - val_loss: 1.6626 - val_accuracy: 0.3462\n",
      "Epoch 3/15\n",
      "6696/6696 [==============================] - 148s 22ms/step - loss: 1.6909 - accuracy: 0.3610 - val_loss: 1.6129 - val_accuracy: 0.3950\n",
      "Epoch 4/15\n",
      "6696/6696 [==============================] - 150s 22ms/step - loss: 1.6427 - accuracy: 0.3832 - val_loss: 1.6334 - val_accuracy: 0.4013\n",
      "Epoch 5/15\n",
      "6696/6696 [==============================] - 148s 22ms/step - loss: 1.5957 - accuracy: 0.4101 - val_loss: 1.5570 - val_accuracy: 0.3975\n",
      "Epoch 6/15\n",
      "6696/6696 [==============================] - 148s 22ms/step - loss: 1.5256 - accuracy: 0.4337 - val_loss: 1.5595 - val_accuracy: 0.3875\n",
      "Epoch 7/15\n",
      "6696/6696 [==============================] - 148s 22ms/step - loss: 1.4864 - accuracy: 0.4536 - val_loss: 1.5610 - val_accuracy: 0.4263\n",
      "Epoch 8/15\n",
      "6696/6696 [==============================] - 148s 22ms/step - loss: 1.4560 - accuracy: 0.4649 - val_loss: 1.5611 - val_accuracy: 0.4400\n",
      "Epoch 9/15\n",
      "6696/6696 [==============================] - 148s 22ms/step - loss: 1.4095 - accuracy: 0.4769 - val_loss: 1.4476 - val_accuracy: 0.4462\n",
      "Epoch 10/15\n",
      "6696/6696 [==============================] - 148s 22ms/step - loss: 1.3972 - accuracy: 0.4888 - val_loss: 1.4957 - val_accuracy: 0.4400\n",
      "Epoch 11/15\n",
      "6696/6696 [==============================] - 148s 22ms/step - loss: 1.3591 - accuracy: 0.5001 - val_loss: 1.4829 - val_accuracy: 0.4387\n",
      "Epoch 12/15\n",
      "6696/6696 [==============================] - 148s 22ms/step - loss: 1.3326 - accuracy: 0.5105 - val_loss: 1.4969 - val_accuracy: 0.4588\n",
      "Epoch 13/15\n",
      "6696/6696 [==============================] - 149s 22ms/step - loss: 1.2984 - accuracy: 0.5276 - val_loss: 1.5066 - val_accuracy: 0.4437\n",
      "Epoch 14/15\n",
      "6696/6696 [==============================] - 148s 22ms/step - loss: 1.3025 - accuracy: 0.5299 - val_loss: 1.5142 - val_accuracy: 0.4375\n",
      "Epoch 15/15\n",
      "6696/6696 [==============================] - 148s 22ms/step - loss: 1.2558 - accuracy: 0.5493 - val_loss: 1.5616 - val_accuracy: 0.4475\n"
     ]
    }
   ],
   "source": [
    "hist = model.fit(X_train, y_train, validation_data = (X_test, y_test), epochs = 15, batch_size = 16)"
   ]
  },
  {
   "cell_type": "code",
   "execution_count": 19,
   "metadata": {},
   "outputs": [
    {
     "data": {
      "image/png": "[encoded data removed]",
      "text/plain": [
       "<Figure size 864x576 with 1 Axes>"
      ]
     },
     "metadata": {},
     "output_type": "display_data"
    }
   ],
   "source": [
    "epochs = 15\n",
    "\n",
    "plt.style.use(\"ggplot\")\n",
    "plt.figure(figsize = (12, 8))\n",
    "plt.plot(np.arange(0, epochs), hist.history[\"loss\"], label = \"train_loss\")\n",
    "plt.plot(np.arange(0, epochs), hist.history[\"val_loss\"], label = \"val_loss\")\n",
    "plt.plot(np.arange(0, epochs), hist.history[\"accuracy\"], label = \"train_acc\")\n",
    "plt.plot(np.arange(0, epochs), hist.history[\"val_accuracy\"], label = \"val_acc\")\n",
    "plt.title(\"Training Loss and Accuracy on Dataset\")\n",
    "plt.xlabel(\"Epoch #\")\n",
    "plt.ylabel(\"Loss/Accuracy\")\n",
    "plt.legend(loc = \"lower left\")\n",
    "plt.savefig('D:/Ryerson University/Courses/DS - 8013 Deep Learning/Project/bin/plots/ann.png')"
   ]
  },
  {
   "cell_type": "code",
   "execution_count": null,
   "metadata": {},
   "outputs": [],
   "source": []
  }
 ],
 "metadata": {
  "kernelspec": {
   "display_name": "Python 3",
   "language": "python",
   "name": "python3"
  },
  "language_info": {
   "codemirror_mode": {
    "name": "ipython",
    "version": 3
   },
   "file_extension": ".py",
   "mimetype": "text/x-python",
   "name": "python",
   "nbconvert_exporter": "python",
   "pygments_lexer": "ipython3",
   "version": "3.7.4"
  }
 },
 "nbformat": 4,
 "nbformat_minor": 4
}
